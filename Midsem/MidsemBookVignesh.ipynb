{
  "nbformat": 4,
  "nbformat_minor": 0,
  "metadata": {
    "colab": {
      "name": "MidsemBookVignesh.ipynb",
      "provenance": [],
      "collapsed_sections": [
        "UWynyYxnxvBG",
        "WlDjFV180ZZC",
        "5k711nc40Z91",
        "egsyOFJGbHvK",
        "iCNQBMdjbL2G",
        "z0RP5EC0xktP",
        "s2ZeG36-OBtC",
        "KvdVVpQcrOWs"
      ]
    },
    "kernelspec": {
      "name": "python3",
      "display_name": "Python 3"
    },
    "language_info": {
      "name": "python"
    }
  },
  "cells": [
    {
      "cell_type": "markdown",
      "metadata": {
        "id": "UWynyYxnxvBG"
      },
      "source": [
        "#Mid Sem code\n",
        "#Vignesh Ramakrishnan \n",
        "#21310037\n",
        "#ME639"
      ]
    },
    {
      "cell_type": "code",
      "metadata": {
        "id": "3nKJ0oek-MtY"
      },
      "source": [
        "#Vignesh Ramakrishnan\n",
        "#21310037\n",
        "#Importing libraries\n",
        "%matplotlib inline\n",
        "import numpy as np\n",
        "import matplotlib.pyplot as plt\n",
        "import scipy.integrate as integrate \n",
        "import matplotlib.animation as animation\n",
        "from matplotlib.animation import FuncAnimation\n",
        "from matplotlib import rc\n",
        "from IPython.display import HTML\n",
        "from numpy import sin, cos,arctan,arccos\n",
        "from collections import deque"
      ],
      "execution_count": 2,
      "outputs": []
    },
    {
      "cell_type": "code",
      "metadata": {
        "id": "2s--HESbLLt0",
        "colab": {
          "base_uri": "https://localhost:8080/"
        },
        "outputId": "4b0b65be-754e-4bdf-c794-1ebae6a38970"
      },
      "source": [
        "\n",
        "#Rotational matrix along x\n",
        "def RotX(theta):\n",
        "  theta=np.radians(theta)\n",
        "  return np.array([[1,0,0,0],[0,np.cos(theta),-np.sin(theta),0],[0,np.sin(theta),np.cos(theta),0],[0,0,0,1]])\n",
        "\n",
        "\n",
        "#Rotational matrix along y\n",
        "def RotY(theta):\n",
        "  theta=np.radians(theta)\n",
        "  return np.array([[np.cos(theta),0,-np.sin(theta),0],[0,1,0,0],[np.sin(theta),0,np.cos(theta),0],[0,0,0,1]])\n",
        "\n",
        "\n",
        "#Rotational matrix along z\n",
        "def RotZ(theta):\n",
        "  theta=np.radians(theta)\n",
        "  return np.array([[np.cos(theta),-np.sin(theta),0,0],[np.sin(theta),np.cos(theta),0,0],[0,0,1,0],[0,0,0,1]])\n",
        "\n",
        "\n",
        "#Translational matrix along x\n",
        "def TransX(dist):\n",
        "  return np.array([[1,0,0,dist],[0,1,0,0],[0,0,1,0],[0,0,0,1]])\n",
        "\n",
        "#Translational matrix along y\n",
        "def TransY(dist):\n",
        "  return np.array([[1,0,0,0],[0,1,0,dist],[0,0,1,0],[0,0,0,1]])\n",
        "\n",
        "#Translational matrix along z\n",
        "def TransZ(dist):\n",
        "  return np.array([[1,0,0,0],[0,1,0,0],[0,0,1,dist],[0,0,0,1]])\n",
        " \n",
        "#[d,theta,a,alpha]\n",
        "def AFromDHVals(DH):\n",
        "  n=np.shape(DH)[0] #From repo, only this index\n",
        "  A=np.identity(4)\n",
        "  for i in range(n):\n",
        "    Anext=TransZ(DH[i][0]) @ RotZ(DH [i][1]) @ RotX(DH [i][3]) @ TransX(DH[i][2]) \n",
        "    A=np.matmul(A,Anext)\n",
        "  return A\n",
        "#DH=[[0,90,1,0],[0,45,1,0]]\n",
        "#print(AFromDHVals(DH))\n",
        "\n"
      ],
      "execution_count": 17,
      "outputs": [
        {
          "output_type": "stream",
          "name": "stdout",
          "text": [
            "[[-0.70710678 -0.70710678  0.         -0.70710678]\n",
            " [ 0.70710678 -0.70710678  0.          1.70710678]\n",
            " [ 0.          0.          1.          0.        ]\n",
            " [ 0.          0.          0.          1.        ]]\n"
          ]
        }
      ]
    },
    {
      "cell_type": "code",
      "metadata": {
        "id": "YU-H7OLfpw-s",
        "colab": {
          "base_uri": "https://localhost:8080/"
        },
        "outputId": "3a440923-7459-4e46-8a41-e6e3cd580fbd"
      },
      "source": [
        "#Repository Jacobian1\n",
        "\n",
        "import numpy as np\n",
        "import sys\n",
        "import sympy as sym\n",
        "\n",
        "class manipulator():\n",
        "\n",
        "  def __init__(self, no_of_links, type_of_joints, dh_params):\n",
        "    super().__init__()\n",
        "    self.no_of_links = no_of_links\n",
        "    self.type_of_joints = list(type_of_joints)\n",
        "    self.dh_params = dh_params\n",
        "    if len(self.dh_params) != self.no_of_links:\n",
        "      print(\"ERROR: Please make sure the number of rows in the DH parameters provided is equal to the number of links.\")\n",
        "      sys.exit()\n",
        "    self.dh_matrices = []\n",
        "    for i in range(0, self.no_of_links):    \n",
        "      temp = self.dh_params[i]\n",
        "      theta = temp[0]\n",
        "      d = temp[1]\n",
        "      a = temp[2]\n",
        "      alpha = temp[3]\n",
        "      A1 = np.array([[np.cos(theta), -np.sin(theta), 0, 0],[np.sin(theta), np.cos(theta), 0, 0],[0, 0, 1, 0],[0, 0, 0, 1]])\n",
        "      A2 = np.array([[1, 0, 0, 0],[0, 1, 0, 0],[0, 0, 1, d],[0, 0, 0, 1]])\n",
        "      A3 = np.array([[1, 0, 0, a],[0, 1, 0, 0],[0, 0, 1, 0],[0, 0, 0, 1]])\n",
        "      A4 = np.array([[1, 0, 0, 0],[0, np.cos(alpha), -np.sin(alpha), 0],[0, np.sin(alpha), np.cos(alpha), 0],[0, 0, 0, 1]])\n",
        "      A_final = A1@A2@A3@A4\n",
        "      self.dh_matrices.append(A_final)\n",
        "    self.dh_matrices = np.array(self.dh_matrices)\n",
        "\n",
        "    self.transform_matrices = []\n",
        "    self.rotation_matrices = []\n",
        "\n",
        "    for i in range(1, self.no_of_links+1):\n",
        "      temp = self.dh_matrices[0]\n",
        "      for j in range(1, i):\n",
        "        temp = temp@self.dh_matrices[j]\n",
        "      rot_temp = temp\n",
        "      rot_temp = np.delete(rot_temp, (3), axis = 0)\n",
        "      rot_temp = np.delete(rot_temp, (3), axis = 1)\n",
        "      self.transform_matrices.append(temp)\n",
        "      self.rotation_matrices.append(rot_temp)\n",
        "\n",
        "    self.transform_matrices = np.array(self.transform_matrices)\n",
        "    self.rotation_matrices = np.array(self.rotation_matrices)\n",
        "\n",
        "    self.end_effector_posn = np.delete(self.transform_matrices[len(self.transform_matrices)-1]@np.array([[0],[0],[0],[1]]), (3), axis = 0)\n",
        "\n",
        "    self.z = []\n",
        "    self.origins = []\n",
        "    self.z.append(np.array([[0],[0],[1]]))\n",
        "    self.origins.append(np.array([[0],[0],[0]]))\n",
        "\n",
        "    for i in range(0, self.no_of_links):\n",
        "      temp_z = self.rotation_matrices[i]@np.array([[0],[0],[1]])\n",
        "      self.z.append(temp_z)\n",
        "      temp_origin = self.transform_matrices[i]@np.array([[0],[0],[0],[1]])\n",
        "      temp_origin = np.delete(temp_origin, (3), axis = 0)\n",
        "      self.origins.append(temp_origin)\n",
        "    \n",
        "    self.z = np.array(self.z)\n",
        "    self.origins = np.array(self.origins)  \n",
        "    self.jacobian = []\n",
        "    for i in range(0,self.no_of_links):\n",
        "      if self.type_of_joints[i] == \"R\":\n",
        "        temp_1 = np.cross(self.z[i], self.end_effector_posn-self.origins[i], axis = 0)\n",
        "        temp_2 = self.z[i]\n",
        "      if self.type_of_joints[i] == \"P\":\n",
        "        temp_1 = self.z[i]\n",
        "        temp_2 = np.array([[0],[0],[0]])\n",
        "      temp_jacobian = np.vstack((temp_1, temp_2))\n",
        "      self.jacobian.append(temp_jacobian)\n",
        "    self.jacobian = np.array(self.jacobian)\n",
        "    self.jacobian = self.jacobian.reshape((self.no_of_links,6))\n",
        "    self.jacobian = np.transpose(self.jacobian)\n",
        "    self.Jv = np.delete(self.jacobian,(3,4,5), axis = 0)\n",
        "\n",
        "    print(\"End Effector Position:\")\n",
        "    print(self.end_effector_posn)\n",
        "    print(\"Manipulator Jacobian:\")\n",
        "    print(self.jacobian)\n",
        "    print(\"Velocity Jacobian (can be multiplied with qdot to obtain end-effector velocity):\")\n",
        "    print(self.Jv)\n",
        "\n",
        "my_robot = manipulator(3, \"RRR\", [[np.pi/3,0,1,0],[0,0,0,np.pi/2],[0,0,0,np.pi/2]])\n",
        "print(\"STANFORD MANIPULATOR:\")\n",
        "stanford_manipulator = manipulator(3, \"RRP\", [[0,0,0,-np.pi/2],[0,2,0,np.pi/2],[0,2,0,0]])\n",
        "print(\"SCARA MANIPULATOR:\")\n",
        "SCARA = manipulator(3, \"RRP\", [[0,0,2,0],[0,0,2,np.pi],[0,2,0,0]])\n",
        "print(\"PPP MANIPULATOR:\")\n",
        "PPP = manipulator(3, \"PPP\", [[0,1,0,-np.pi/2],[-np.pi/2,2,0,-np.pi/2],[0,3,0,0]])\n",
        "print(\"6R MANIPULATOR:\")\n",
        "R6 = manipulator(6, \"RRRRRR\", [[np.pi/2,1,0,-np.pi/2],[0,0,1,0],[0,0,1,np.pi/2],[0,0,0,np.pi/2],[0,0,0,-np.pi/2],[0,1,0,0]])"
      ],
      "execution_count": 129,
      "outputs": [
        {
          "output_type": "stream",
          "name": "stdout",
          "text": [
            "End Effector Position:\n",
            "[[0.5      ]\n",
            " [0.8660254]\n",
            " [0.       ]]\n",
            "Manipulator Jacobian:\n",
            "[[-8.66025404e-01  0.00000000e+00 -0.00000000e+00]\n",
            " [ 5.00000000e-01  0.00000000e+00  0.00000000e+00]\n",
            " [ 0.00000000e+00  0.00000000e+00  0.00000000e+00]\n",
            " [ 0.00000000e+00  0.00000000e+00  8.66025404e-01]\n",
            " [ 0.00000000e+00  0.00000000e+00 -5.00000000e-01]\n",
            " [ 1.00000000e+00  1.00000000e+00  6.12323400e-17]]\n",
            "Velocity Jacobian (can be multiplied with qdot to obtain end-effector velocity):\n",
            "[[-0.8660254  0.        -0.       ]\n",
            " [ 0.5        0.         0.       ]\n",
            " [ 0.         0.         0.       ]]\n",
            "STANFORD MANIPULATOR:\n",
            "End Effector Position:\n",
            "[[0.]\n",
            " [2.]\n",
            " [2.]]\n",
            "Manipulator Jacobian:\n",
            "[[-2.000000e+00  2.000000e+00  0.000000e+00]\n",
            " [ 0.000000e+00  0.000000e+00  0.000000e+00]\n",
            " [ 0.000000e+00  0.000000e+00  1.000000e+00]\n",
            " [ 0.000000e+00  0.000000e+00  0.000000e+00]\n",
            " [ 0.000000e+00  1.000000e+00  0.000000e+00]\n",
            " [ 1.000000e+00  6.123234e-17  0.000000e+00]]\n",
            "Velocity Jacobian (can be multiplied with qdot to obtain end-effector velocity):\n",
            "[[-2.  2.  0.]\n",
            " [ 0.  0.  0.]\n",
            " [ 0.  0.  1.]]\n",
            "SCARA MANIPULATOR:\n",
            "End Effector Position:\n",
            "[[ 4.0000000e+00]\n",
            " [-2.4492936e-16]\n",
            " [-2.0000000e+00]]\n",
            "Manipulator Jacobian:\n",
            "[[ 2.4492936e-16  2.4492936e-16  0.0000000e+00]\n",
            " [ 4.0000000e+00  2.0000000e+00 -1.2246468e-16]\n",
            " [-0.0000000e+00 -0.0000000e+00 -1.0000000e+00]\n",
            " [ 0.0000000e+00  0.0000000e+00  0.0000000e+00]\n",
            " [ 0.0000000e+00  0.0000000e+00  0.0000000e+00]\n",
            " [ 1.0000000e+00  1.0000000e+00  0.0000000e+00]]\n",
            "Velocity Jacobian (can be multiplied with qdot to obtain end-effector velocity):\n",
            "[[ 2.4492936e-16  2.4492936e-16  0.0000000e+00]\n",
            " [ 4.0000000e+00  2.0000000e+00 -1.2246468e-16]\n",
            " [-0.0000000e+00 -0.0000000e+00 -1.0000000e+00]]\n",
            "PPP MANIPULATOR:\n",
            "End Effector Position:\n",
            "[[3.]\n",
            " [2.]\n",
            " [1.]]\n",
            "Manipulator Jacobian:\n",
            "[[ 0.000000e+00  0.000000e+00  1.000000e+00]\n",
            " [ 0.000000e+00  1.000000e+00  6.123234e-17]\n",
            " [ 1.000000e+00  6.123234e-17 -6.123234e-17]\n",
            " [ 0.000000e+00  0.000000e+00  0.000000e+00]\n",
            " [ 0.000000e+00  0.000000e+00  0.000000e+00]\n",
            " [ 0.000000e+00  0.000000e+00  0.000000e+00]]\n",
            "Velocity Jacobian (can be multiplied with qdot to obtain end-effector velocity):\n",
            "[[ 0.000000e+00  0.000000e+00  1.000000e+00]\n",
            " [ 0.000000e+00  1.000000e+00  6.123234e-17]\n",
            " [ 1.000000e+00  6.123234e-17 -6.123234e-17]]\n",
            "6R MANIPULATOR:\n",
            "End Effector Position:\n",
            "[[1.2246468e-16]\n",
            " [2.0000000e+00]\n",
            " [2.0000000e+00]]\n",
            "Manipulator Jacobian:\n",
            "[[-2.00000000e+00 -6.12323400e-17  0.00000000e+00  1.50403894e-49\n",
            "  -6.12323400e-17 -1.50403894e-49]\n",
            " [ 1.22464680e-16  1.00000000e+00  1.00000000e+00  0.00000000e+00\n",
            "  -1.00000000e+00  0.00000000e+00]\n",
            " [ 0.00000000e+00 -2.00000000e+00 -1.00000000e+00  0.00000000e+00\n",
            "   0.00000000e+00  0.00000000e+00]\n",
            " [ 0.00000000e+00 -1.00000000e+00 -1.00000000e+00  0.00000000e+00\n",
            "   1.00000000e+00  0.00000000e+00]\n",
            " [ 0.00000000e+00  6.12323400e-17  6.12323400e-17  1.50403894e-49\n",
            "  -6.12323400e-17 -1.50403894e-49]\n",
            " [ 1.00000000e+00  6.12323400e-17  6.12323400e-17  1.00000000e+00\n",
            "   6.12323400e-17  1.00000000e+00]]\n",
            "Velocity Jacobian (can be multiplied with qdot to obtain end-effector velocity):\n",
            "[[-2.00000000e+00 -6.12323400e-17  0.00000000e+00  1.50403894e-49\n",
            "  -6.12323400e-17 -1.50403894e-49]\n",
            " [ 1.22464680e-16  1.00000000e+00  1.00000000e+00  0.00000000e+00\n",
            "  -1.00000000e+00  0.00000000e+00]\n",
            " [ 0.00000000e+00 -2.00000000e+00 -1.00000000e+00  0.00000000e+00\n",
            "   0.00000000e+00  0.00000000e+00]]\n"
          ]
        }
      ]
    },
    {
      "cell_type": "markdown",
      "metadata": {
        "id": "Qd2V7wFWyR6D"
      },
      "source": [
        "# Task 1: Milacron manifold block inspection"
      ]
    },
    {
      "cell_type": "code",
      "metadata": {
        "id": "3AQsiCLR26Il"
      },
      "source": [
        "Linklengths=[0.25,0.25,0.25]\n",
        "Linkmasses=[0.8,0.8,0.8]\n",
        "Amax=[0.45,0.075,0.1]\n",
        "Bmax=[0.45,-0.075,0.1]\n",
        "Cmax=[0.25,0.075,0.1]\n",
        "Dmax=[0.25,-0.075,0.1]"
      ],
      "execution_count": 87,
      "outputs": []
    },
    {
      "cell_type": "markdown",
      "metadata": {
        "id": "-UTsCzloyjOL"
      },
      "source": [
        "#### Robot 1: Stanford type(RRP)\n"
      ]
    },
    {
      "cell_type": "code",
      "metadata": {
        "colab": {
          "base_uri": "https://localhost:8080/"
        },
        "id": "Of_R3LwFtOfP",
        "outputId": "ce51c46c-53f7-4952-bde8-fd55b6251a51"
      },
      "source": [
        "#Forward Kinematics i.e. end effector positions from joint positions\n",
        "def For_Pos_Kin_Stanford(jointloc,lengthsoflinks):\n",
        "  theta1,theta2,dz3=jointloc[0],jointloc[1],jointloc[2]\n",
        "  d1,d2,d3=lengthsoflinks[0],lengthsoflinks[1],lengthsoflinks[2]\n",
        "  DH=[[d1,theta1,0,-90],[d2,theta2,0,90],[-dz3,0,0,0]]  \n",
        "  P0=np.array([0,0,0,1])\n",
        "  A=AFromDHVals(DH)\n",
        "  res=A @ P0\n",
        "  return res[0:3]\n",
        "For_Pos_Kin_Stanford([0,0,0.15],[0.25,0,0.25])"
      ],
      "execution_count": 253,
      "outputs": [
        {
          "output_type": "execute_result",
          "data": {
            "text/plain": [
              "array([0. , 0. , 0.1])"
            ]
          },
          "metadata": {},
          "execution_count": 253
        }
      ]
    },
    {
      "cell_type": "code",
      "metadata": {
        "id": "cG-ZvOWQYLOl",
        "colab": {
          "base_uri": "https://localhost:8080/"
        },
        "outputId": "0b1844b8-face-468b-acb3-bc80f85683d4"
      },
      "source": [
        "def For_Pos_Kin_Stanford_NoDH(jointloc,lengthsoflinks):\n",
        "  theta1,theta2,dy2=jointloc[0],jointloc[1],jointloc[2]\n",
        "  l1,l2,l3=lengthsoflinks[0],lengthsoflinks[1],lengthsoflinks[2]\n",
        "  P2mat = np.transpose(np.array([0,dy2,0,1]))\n",
        "  P1mat=((RotX(theta2) @ TransX(-l2)) @ P2mat)\n",
        "  P0mat=((RotZ(theta1) @ TransZ(l1)) @ P1mat)\n",
        "  return P0mat[0:3]\n",
        "For_Pos_Kin_Stanford_NoDH([0,0,0.15],[0.25,0,0.25])"
      ],
      "execution_count": 255,
      "outputs": [
        {
          "output_type": "execute_result",
          "data": {
            "text/plain": [
              "array([0.  , 0.15, 0.25])"
            ]
          },
          "metadata": {},
          "execution_count": 255
        }
      ]
    },
    {
      "cell_type": "code",
      "metadata": {
        "colab": {
          "base_uri": "https://localhost:8080/"
        },
        "id": "A_lI0Xw6Kq5r",
        "outputId": "cb32f818-b573-4671-8881-d7c8477f7eec"
      },
      "source": [
        "\n",
        "#inverse kinematics i.e. joint positions from endeffector positions: My Code from spong \n",
        "def Inv_Pos_Kin_Stanford(P0,lengthsoflinks):\n",
        "  P_x=P0[0]\n",
        "  P_y=P0[1]\n",
        "  P_z=P0[2]\n",
        "  l_1,l_2=lengthsoflinks[0],lengthsoflinks[1]\n",
        "  r= ((P_x**2) + (P_y**2))**0.5 #revolute link radius\n",
        "  phi= np.arctan2(P_y,P_x) # revolute link angle\n",
        " \n",
        "  theta_1=np.arctan2(P_x,P_y)- np.arctan2(l_2,((r**2)-(l_2**2))**0.5 ) # theta_1=np.arctan2(P_x,P_y)- np.arctan2(l_2,-((r**2)-(l_2**2))**0.5 ) # also valid\n",
        "\n",
        "  \n",
        "  theta_1_v2=np.arctan2(P_x,P_y)- np.arctan2(l_2,-((r**2)-(l_2**2))**0.5 )\n",
        "    \n",
        "\n",
        "  l_hor=((P_x*np.cos(theta_1))+(P_y*np.sin(theta_1))) #Horizontal position of joint 2\n",
        "  l_vert=l_1-P_z #Vertical position of joint 2\n",
        "\n",
        "\n",
        "\n",
        "  theta_2=np.arctan2(l_hor,l_vert) #  theta_2=np.arctan2(-l_hor,-l_vert) #also valid\n",
        "\n",
        "  #if theta_2 < 0 :\n",
        "  theta_2_v2=np.arctan2(-l_hor,-l_vert)\n",
        "  \n",
        "  d_3= (l_hor* np.sin(theta_2))+(l_vert* np.cos(theta_2))\n",
        "  return [[np.degrees(theta_1),np.degrees(theta_2),d_3],[np.degrees(theta_1_v2),np.degrees(theta_2_v2),d_3]]\n",
        "\n",
        "#Inv_Pos_Kin_Stanford(Amax,[0.25,0.25,0.5])\n",
        "\n",
        "#For_Pos_Kin_Stanford_NoDH([0.25,0.25,0.5])\n",
        "\n",
        "\n",
        "jointloc=Inv_Pos_Kin_Stanford(Amax,[0.25,0.25,0.5])\n",
        "print(jointloc)\n",
        "print(For_Pos_Kin_Stanford_NoDH(jointloc[1],[0.25,0.25,0.5]))\n"
      ],
      "execution_count": 263,
      "outputs": [
        {
          "output_type": "stream",
          "name": "stdout",
          "text": [
            "[[47.30799649413152, 67.3943310604584, 0.3902320599631367], [-66.23264091018274, -112.6056689395416, 0.3902320599631367]]\n",
            "[-0.23803441  0.16834376 -0.11025139]\n"
          ]
        }
      ]
    },
    {
      "cell_type": "code",
      "metadata": {
        "colab": {
          "base_uri": "https://localhost:8080/"
        },
        "id": "NyuZEnmOHrB5",
        "outputId": "e3661c13-7c56-41b4-d587-72974d9964b8"
      },
      "source": [
        " #From Repository\n",
        "def invKinStanford_RepoCode(endeffector_position,lengthsoflinks):\n",
        "    theta1 = np.arctan(endeffector_position[1]/endeffector_position[0])\n",
        "    r = np.sqrt(endeffector_position[0]**2 + endeffector_position[1]**2)\n",
        "    s = endeffector_position[2] - lengthsoflinks[0]\n",
        "    theta2 = np.arctan(s/r)\n",
        "    d3 = np.sqrt(r**2 + s**2) - lengthsoflinks[1]\n",
        "    #print(\"First Solution: \\n\", \"Theta1 = \", theta1, \"\\n Theta2 =\", theta2,\"\\n Extension: \", d3, \"\\n\")\n",
        "    #print(\"Second Solution: \\n\", \"Theta1 = \", np.pi + theta1, \"\\n Theta2 =\", np.pi - theta2,\"\\n Extension:\", d3)\n",
        "    return [[theta1,theta2,d3],[np.pi + theta1,np.pi - theta2,d3]]\n",
        "          \n",
        "\n",
        "jointloc=inverse_kinematics([30,30,30],[10,10])\n",
        "For_Pos_Kin_Stanford_NoDH(jointloc[1],[10,10,10])"
      ],
      "execution_count": 256,
      "outputs": [
        {
          "output_type": "execute_result",
          "data": {
            "text/plain": [
              "array([-16.5329107 ,  30.67504632,  25.73598567])"
            ]
          },
          "metadata": {},
          "execution_count": 256
        }
      ]
    },
    {
      "cell_type": "markdown",
      "metadata": {
        "id": "WlDjFV180ZZC"
      },
      "source": [
        "#### Robot 2: PUMA type(RRR)"
      ]
    },
    {
      "cell_type": "code",
      "metadata": {
        "id": "Gu3GGXSCnejW"
      },
      "source": [
        "#Forward Kinematics i.e. end effector positions from joint positions\n",
        "def For_Pos_Kin_PUMA(jointloc,lengthsoflinks):\n",
        "  theta1,theta2,theta3=jointloc[0],jointloc[1],jointloc[2]\n",
        "  d1,d2,d3=lengthsoflinks[0],lengthsoflinks[1],lengthsoflinks[2]\n",
        "  DH=[[d1,theta1,0,0],[0,theta2,d2,-90],[0,theta3,d3,0]]\n",
        "  P0=np.array([0,0,0,1])\n",
        "  A=AFromDHVals(DH)\n",
        "  res=A @ P0\n",
        "  return res[0:3]"
      ],
      "execution_count": 215,
      "outputs": []
    },
    {
      "cell_type": "code",
      "metadata": {
        "colab": {
          "base_uri": "https://localhost:8080/"
        },
        "id": "OxvduHxznewZ",
        "outputId": "3db07d21-505a-40e2-ca6f-eb752478f407"
      },
      "source": [
        " #From Repo\n",
        " def Inv_Pos_Kin_PUMA(P0,lengthsoflinks):\n",
        "   xc,yc,zc=P0[0],P0[1],P0[2]\n",
        "   l1,l2,l3=lengthsoflinks[0],lengthsoflinks[1],lengthsoflinks[2]\n",
        "   theta1 = np.rad2deg(np.arctan2(yc,xc))\n",
        "   D = (xc*xc+yc*yc+(zc-l1)*(zc-l1)-l2*l2-l3*l3)/(2*l2*l3)\n",
        "   if D>=1 or D<=-1:\n",
        "     print(\"singular configuration\")\n",
        "   if D>1 or D<-1:\n",
        "     print(\"outside workspace\")\n",
        "   theta3 = (np.arctan2((-np.sqrt(1-D*D)),D))\n",
        "   theta2 = np.rad2deg(np.arctan2(zc-l1,(np.sqrt(xc*xc+yc*yc)))-np.arctan2((l3*np.sin(theta3)),(l2+l3*np.cos(theta3))))\n",
        "   theta3 = np.rad2deg(theta3)\n",
        "   return [[theta1,theta2,theta3]]\n",
        "\n",
        "print(Inv_Pos_Kin_PUMA([0.45,0.075,0.1],Linklengths))\n",
        "jointloc=Inv_Pos_Kin_PUMA([0.45,0.075,0.1],Linklengths)\n",
        "print(For_Pos_Kin_PUMA(jointloc[0],Linklengths))"
      ],
      "execution_count": 216,
      "outputs": [
        {
          "output_type": "stream",
          "name": "stdout",
          "text": [
            "[[9.462322208025617, -2.0367282034521836, -32.328064122162274]]\n",
            "[0.45738174 0.05961129 0.38369158]\n"
          ]
        }
      ]
    },
    {
      "cell_type": "markdown",
      "metadata": {
        "id": "5k711nc40Z91"
      },
      "source": [
        "#### Robot 3: SCARA type(RRP)"
      ]
    },
    {
      "cell_type": "code",
      "metadata": {
        "id": "Jy55qr8oZ4CO"
      },
      "source": [
        "def For_Pos_Kin_SCARA(jointloc,lengthsoflinks):\n",
        "  theta1,theta2,dz3=jointloc[0],jointloc[1],jointloc[2]\n",
        "  d1,d2,d3=lengthsoflinks[0],lengthsoflinks[1],lengthsoflinks[2]\n",
        "  DH=[[d1,theta1,d2,0],[0,theta2,d3,0],[-dz3,0,0,0]]\n",
        "  P0=np.array([0,0,d1-dz3,1])\n",
        "  A=AFromDHVals(DH)\n",
        "  res=A @ P0\n",
        "  return res[0:3]\n",
        "\n"
      ],
      "execution_count": 217,
      "outputs": []
    },
    {
      "cell_type": "code",
      "metadata": {
        "colab": {
          "base_uri": "https://localhost:8080/"
        },
        "id": "8TrPrnoALyzZ",
        "outputId": "dc0de61e-fcb8-47f1-c98f-9dc6e174e015"
      },
      "source": [
        " #Inverse Kinematics of SCARA from my old code\n",
        " def Inv_Pos_Kin_SCARA(P0,lengthsoflinks):\n",
        "   l_1=lengthsoflinks[0]\n",
        "   l_2=lengthsoflinks[1]\n",
        "   h=lengthsoflinks[2]\n",
        "   P_x=P0[0]\n",
        "   P_y=P0[1]\n",
        "   P_z=P0[2]\n",
        "   theta_2=np.arccos(((P_x**2+P_y**2)-(l_1**2+l_2**2))/(2*l_1*l_2)) # + or -\n",
        "   theta_1=np.arctan2(((l_2*P_x*np.sin(theta_2))+P_y*(l_1+l_2*np.cos(theta_2))),(-(l_2*P_y*np.sin(theta_2))+P_x*(l_1+l_2*np.cos(theta_2))))\n",
        "   d_3=h-P_z\n",
        "   print()\n",
        "   return np.array([[np.degrees(theta_1),np.degrees(theta_2),d_3],[np.degrees(theta_1),np.degrees(-theta_2),d_3]])\n",
        "\n",
        "print(Inv_Pos_Kin_SCARA([0.5,0,0],Linklengths))\n",
        "jointloc=Inv_Pos_Kin_SCARA([0.5,0,0],Linklengths)\n",
        "print(For_Pos_Kin_SCARA(jointloc[0],Linklengths))"
      ],
      "execution_count": 218,
      "outputs": [
        {
          "output_type": "stream",
          "name": "stdout",
          "text": [
            "\n",
            "[[ 0.    0.    0.25]\n",
            " [ 0.   -0.    0.25]]\n",
            "\n",
            "[0.5 0.  0. ]\n"
          ]
        }
      ]
    },
    {
      "cell_type": "markdown",
      "metadata": {
        "id": "pIMOyZlnbDwn"
      },
      "source": [
        "## Task 1a"
      ]
    },
    {
      "cell_type": "code",
      "metadata": {
        "colab": {
          "base_uri": "https://localhost:8080/"
        },
        "id": "-Sqo6wnVbnMD",
        "outputId": "a2af9c94-cfad-4036-eb3f-b3309fa703b4"
      },
      "source": [
        "Linklengths=[0.25,0.25,0.25]\n",
        "Linkmasses=[0.8,0.8,0.8]\n",
        "Amax=[0.45,0.075,0.1]\n",
        "Bmax=[0.45,-0.075,0.1]\n",
        "Cmax=[0.25,0.075,0.1]\n",
        "Dmax=[0.25,-0.075,0.1]\n",
        "\n",
        "#Calculating required link lengths\n",
        "def StanfordLinkLengthReqd(Amax,Bmax,Cmax,Dmax):\n",
        "  l1new=max(0.25,abs(Amax[2]),abs(Bmax[2]),abs(Cmax[2]),abs(Dmax[2]))\n",
        "  l2new=max(0.25,abs(Amax[1]-Bmax[1]),abs(Cmax[1]-Dmax[1]))\n",
        "  l3new=( ((l1new-max(abs(Amax[2]),abs(Bmax[2]),abs(Cmax[2]),abs(Dmax[2])))**2+ (max(abs(Amax[1]-Bmax[1]),abs(Cmax[1]-Dmax[1]))))**2 + max(0.25,abs(Amax[0]),abs(Bmax[0]),abs(Cmax[0]),abs(Dmax[0]))**2)**0.5\n",
        "  return [l1new,l2new,l3new]\n",
        "print('Stanford Link lengths required:',StanfordLinkLengthReqd(Amax,Bmax,Cmax,Dmax))\n",
        "lstan=StanfordLinkLengthReqd(Amax,Bmax,Cmax,Dmax)\n",
        "\n",
        "\n",
        "\n",
        "def SCARALinkLengthReqd(Amax,Bmax,Cmax,Dmax):\n",
        "  l1new=max(0.25,abs(Amax[2]),abs(Bmax[2]),abs(Cmax[2]),abs(Dmax[2]))\n",
        "  l2new=(max(0.25,abs(Amax[1]-Bmax[1]),abs(Cmax[1]-Dmax[1])))\n",
        "  l3new=max(0.5*(((max(abs(Amax[1]-Bmax[1]),abs(Cmax[1]-Dmax[1])))**2 + max(abs(Amax[0]),abs(Bmax[0]),abs(Cmax[0]),abs(Dmax[0]))**2-l2new**2)**0.5),0.25)\n",
        "  return [l1new,l2new,l3new]\n",
        "print('SCARA Link lengths required:',SCARALinkLengthReqd(Amax,Bmax,Cmax,Dmax))\n",
        "lScara=SCARALinkLengthReqd(Amax,Bmax,Cmax,Dmax)\n",
        "\n",
        "\n",
        "\n",
        "\n",
        "def PUMALinkLengthReqd(Amax,Bmax,Cmax,Dmax):\n",
        "  l1new=max(0.25,abs(Amax[2]),abs(Bmax[2]),abs(Cmax[2]),abs(Dmax[2]))\n",
        "  l2new=(max(0.25,abs(Amax[1]-Bmax[1]),abs(Cmax[1]-Dmax[1])))\n",
        "  l3new=max(0.25,0.5*((max(abs(Amax[1]-Bmax[1]),abs(Cmax[1]-Dmax[1])))**2 + max(abs(Amax[0]),abs(Bmax[0]),abs(Cmax[0]),abs(Dmax[0]))**2+(l1new-max(abs(Amax[2]),abs(Bmax[2]),abs(Cmax[2]),abs(Dmax[2])))**2-l2new**2)**0.5)\n",
        "  return [l1new,l2new,l3new]\n",
        "print('PUMA Link lengths required:',PUMALinkLengthReqd(Amax,Bmax,Cmax,Dmax))\n",
        "lPUMA=PUMALinkLengthReqd(Amax,Bmax,Cmax,Dmax)\n",
        "\n",
        "#Verification for Stanford max values\n",
        "print('Amax',Amax)\n",
        "jointloc=invKinStanford_RepoCode(Amax,lstan)\n",
        "print('Joint variables for Stanford',jointloc)\n",
        "print('Verifying for Stanford Amax',For_Pos_Kin_Stanford_NoDH(jointloc[1],lstan))\n",
        "\n",
        "print('Bmax',Bmax)\n",
        "jointloc=invKinStanford_RepoCode(Bmax,lstan)\n",
        "print('Joint variables for Stanford',jointloc)\n",
        "print('Verifying for Stanford ',For_Pos_Kin_Stanford_NoDH(jointloc[0],lstan))\n",
        "\n",
        "print('Cmax',Cmax)\n",
        "jointloc=invKinStanford_RepoCode(Cmax,lstan)\n",
        "print('Joint variables for Stanford',jointloc)\n",
        "print('Verifying for Stanford Cmax',For_Pos_Kin_Stanford_NoDH(jointloc[0],lstan))\n",
        "\n",
        "print('Dmax',Dmax)\n",
        "jointloc=invKinStanford_RepoCode(Dmax,lstan)\n",
        "print('Joint variables for Stanford',jointloc)\n",
        "print('Verifying for Stanford Dmax',For_Pos_Kin_Stanford_NoDH(jointloc[0],lstan))\n",
        "\n",
        "#Verification for SCARA max values\n",
        "\n",
        "jointloc=(Inv_Pos_Kin_SCARA(Amax,lScara))\n",
        "print('Amax',Amax)\n",
        "print('Joint variables for SCARA',jointloc)\n",
        "print('Verifying Amax for SCARA',For_Pos_Kin_SCARA(jointloc[0],lScara))\n",
        "\n",
        "\n",
        "jointloc=(Inv_Pos_Kin_SCARA(Bmax,lScara))\n",
        "print('Bmax',Bmax)\n",
        "print('Joint variables for SCARA',jointloc)\n",
        "print('Verifying Bmax for SCARA',For_Pos_Kin_SCARA(jointloc[0],lScara))\n",
        "\n",
        "jointloc=(Inv_Pos_Kin_SCARA(Cmax,lScara))\n",
        "print('Cmax',Cmax)\n",
        "print('Joint variables for SCARA',jointloc)\n",
        "print('Verifying Cmax for SCARA',For_Pos_Kin_SCARA(jointloc[0],lScara))\n",
        "\n",
        "jointloc=(Inv_Pos_Kin_SCARA(Dmax,lScara))\n",
        "print('Dmax',Dmax)\n",
        "print('Joint variables for SCARA',jointloc)\n",
        "print('Verifying Dmax for SCARA',For_Pos_Kin_SCARA(jointloc[0],lScara))\n",
        "\n",
        "#Verification for PUMA(Articulated) max values\n",
        "jointloc=Inv_Pos_Kin_PUMA(Amax,lPUMA)\n",
        "print('Amax',Amax)\n",
        "print('Joint variables for PUMA',jointloc)\n",
        "print('Verifying Amax for PUMA',For_Pos_Kin_PUMA(jointloc[0],lPUMA))\n",
        "\n",
        "jointloc=Inv_Pos_Kin_PUMA(Bmax,lPUMA)\n",
        "print('Bmax',Bmax)\n",
        "print('Joint variables for PUMA',jointloc)\n",
        "print('Verifying Bmax for PUMA',For_Pos_Kin_PUMA(jointloc[0],lPUMA))\n",
        "\n",
        "jointloc=Inv_Pos_Kin_PUMA(Cmax,lPUMA)\n",
        "print('Cmax',Cmax)\n",
        "print('Joint variables for PUMA',jointloc)\n",
        "print('Verifying Cmax for PUMA',For_Pos_Kin_PUMA(jointloc[0],lPUMA))\n",
        "\n",
        "jointloc=Inv_Pos_Kin_PUMA(Dmax,lPUMA)\n",
        "print('Dmax',Dmax)\n",
        "print('Joint variables for PUMA',jointloc)\n",
        "print('Verifying Dmax for PUMA',For_Pos_Kin_PUMA(jointloc[0],lPUMA))\n",
        "\n"
      ],
      "execution_count": 258,
      "outputs": [
        {
          "output_type": "stream",
          "name": "stdout",
          "text": [
            "Stanford Link lengths required: [0.25, 0.25, 0.48192971479252034]\n",
            "SCARA Link lengths required: [0.25, 0.25, 0.25]\n",
            "PUMA Link lengths required: [0.25, 0.25, 0.25]\n",
            "Amax [0.45, 0.075, 0.1]\n",
            "Joint variables for Stanford [[0.16514867741462683, -0.3176631929822606, 0.23023431780746362], [3.30674133100442, 3.4592558465720535, 0.23023431780746362]]\n",
            "Verifying for Stanford Amax [-0.26283982  0.21501182  0.26389205]\n",
            "Bmax [0.45, -0.075, 0.1]\n",
            "Joint variables for Stanford [[-0.16514867741462683, -0.3176631929822606, 0.23023431780746362], [2.976443976175166, 3.4592558465720535, 0.23023431780746362]]\n",
            "Verifying for Stanford  [-0.24933535  0.23095042  0.24872353]\n",
            "Cmax [0.25, 0.075, 0.1]\n",
            "Joint variables for Stanford [[0.2914567944778671, -0.5216056136891403, 0.051039864469807406], [3.4330494480676603, 3.6631982672789336, 0.051039864469807406]]\n",
            "Verifying for Stanford Cmax [-0.25025639  0.04976537  0.24953535]\n",
            "Dmax [0.25, -0.075, 0.1]\n",
            "Joint variables for Stanford [[-0.2914567944778671, -0.5216056136891403, 0.051039864469807406], [2.850135859111926, 3.6631982672789336, 0.051039864469807406]]\n",
            "Verifying for Stanford Dmax [-0.24973714  0.0523088   0.24953535]\n",
            "\n",
            "Amax [0.45, 0.075, 0.1]\n",
            "Joint variables for SCARA [[ 33.62115951  48.31767461   0.15      ]\n",
            " [ 33.62115951 -48.31767461   0.15      ]]\n",
            "Verifying Amax for SCARA [0.24323675 0.38595451 0.2       ]\n",
            "\n",
            "Bmax [0.45, -0.075, 0.1]\n",
            "Joint variables for SCARA [[ 14.6965151   48.31767461   0.15      ]\n",
            " [ 14.6965151  -48.31767461   0.15      ]]\n",
            "Verifying Bmax for SCARA [0.35526325 0.28620451 0.2       ]\n",
            "\n",
            "Cmax [0.25, 0.075, 0.1]\n",
            "Joint variables for SCARA [[  75.23171135  117.06493423    0.15      ]\n",
            " [  75.23171135 -117.06493423    0.15      ]]\n",
            "Verifying Cmax for SCARA [-0.18053686  0.18849786  0.2       ]\n",
            "\n",
            "Dmax [0.25, -0.075, 0.1]\n",
            "Joint variables for SCARA [[  41.83322288  117.06493423    0.15      ]\n",
            " [  41.83322288 -117.06493423    0.15      ]]\n",
            "Verifying Dmax for SCARA [-0.04696314  0.25674786  0.2       ]\n",
            "Amax [0.45, 0.075, 0.1]\n",
            "Joint variables for PUMA [[9.462322208025617, -2.0367282034521836, -32.328064122162274]]\n",
            "Verifying Amax for PUMA [0.45738174 0.05961129 0.38369158]\n",
            "Bmax [0.45, -0.075, 0.1]\n",
            "Joint variables for PUMA [[-9.462322208025617, -2.0367282034521836, -32.328064122162274]]\n",
            "Verifying Bmax for PUMA [ 0.45199179 -0.09195097  0.38369158]\n",
            "Cmax [0.25, 0.075, 0.1]\n",
            "Joint variables for PUMA [[16.69924423399362, 23.09520684670464, -105.96201416284724]]\n",
            "Verifying Cmax for PUMA [0.13926262 0.1160064  0.49036106]\n",
            "Dmax [0.25, -0.075, 0.1]\n",
            "Joint variables for PUMA [[-16.69924423399362, 23.09520684670464, -105.96201416284724]]\n",
            "Verifying Dmax for PUMA [0.18012186 0.02019105 0.49036106]\n"
          ]
        }
      ]
    },
    {
      "cell_type": "markdown",
      "metadata": {
        "id": "egsyOFJGbHvK"
      },
      "source": [
        "## Task 1b"
      ]
    },
    {
      "cell_type": "code",
      "metadata": {
        "colab": {
          "base_uri": "https://localhost:8080/"
        },
        "id": "sz5XC3jMckWR",
        "outputId": "4756550c-9c14-42dd-f91a-24a941961944"
      },
      "source": [
        "lstan=StanfordLinkLengthReqd(Amax,Bmax,Cmax,Dmax)\n",
        "lScara=SCARALinkLengthReqd(Amax,Bmax,Cmax,Dmax)\n",
        "lPUMA=PUMALinkLengthReqd(Amax,Bmax,Cmax,Dmax)\n",
        "A=[0.3,0.02,0.2]\n",
        "B=[0.3,-0.02,0.2]\n",
        "C=[0.22,0.02,0.2]\n",
        "D=[0.22,-0.02,0.2]\n",
        "\n",
        "def verify(A,B,C,D):\n",
        "  #For Stanford\n",
        "  print('A',A)\n",
        "  jointloc=invKinStanford_RepoCode(A,lstan)\n",
        "  print('Joint variables for Stanford',jointloc)\n",
        "  print('Verifying for Stanford A',For_Pos_Kin_Stanford(jointloc[0],lstan))\n",
        "  print('B',B)\n",
        "  jointloc=invKinStanford_RepoCode(B,lstan)\n",
        "  print('Joint variables for Stanford',jointloc)\n",
        "  print('Verifying for Stanford ',For_Pos_Kin_Stanford(jointloc[0],lstan))\n",
        "  print('C',C)\n",
        "  jointloc=invKinStanford_RepoCode(C,lstan)\n",
        "  print('Joint variables for Stanford',jointloc)\n",
        "  print('Verifying for Stanford C',For_Pos_Kin_Stanford(jointloc[0],lstan))\n",
        "  print('D',D)\n",
        "  jointloc=invKinStanford_RepoCode(D,lstan)\n",
        "  print('Joint variables for Stanford',jointloc)\n",
        "  print('Verifying for Stanford D',For_Pos_Kin_Stanford(jointloc[0],lstan))\n",
        "  #For SCARA\n",
        "  jointloc=(Inv_Pos_Kin_SCARA(A,lScara))\n",
        "  print('A',A)\n",
        "  print('Joint variables for SCARA',jointloc)\n",
        "  print('Verifying A for SCARA',For_Pos_Kin_SCARA(jointloc[0],lScara))\n",
        "\n",
        "\n",
        "  jointloc=(Inv_Pos_Kin_SCARA(B,lScara))\n",
        "  print('B',B)\n",
        "  print('Joint variables for SCARA',jointloc)\n",
        "  print('Verifying B for SCARA',For_Pos_Kin_SCARA(jointloc[0],lScara))\n",
        "\n",
        "  jointloc=(Inv_Pos_Kin_SCARA(C,lScara))\n",
        "  print('Cmax',C)\n",
        "  print('Joint variables for SCARA',jointloc)\n",
        "  print('Verifying C for SCARA',For_Pos_Kin_SCARA(jointloc[0],lScara))\n",
        "\n",
        "  jointloc=(Inv_Pos_Kin_SCARA(D,lScara))\n",
        "  print('D',D)\n",
        "  print('Joint variables for SCARA',jointloc)\n",
        "  print('Verifying D for SCARA',For_Pos_Kin_SCARA(jointloc[0],lScara))\n",
        "\n",
        "  #Verification for PUMA(Articulated)  values\n",
        "  jointloc=Inv_Pos_Kin_PUMA(A,lPUMA)\n",
        "  print('A',A)\n",
        "  print('Joint variables for PUMA',jointloc)\n",
        "  print('Verifying A for PUMA',For_Pos_Kin_PUMA(jointloc[0],lPUMA))\n",
        "\n",
        "  jointloc=Inv_Pos_Kin_PUMA(B,lPUMA)\n",
        "  print('B',B)\n",
        "  print('Joint variables for PUMA',jointloc)\n",
        "  print('Verifying B for PUMA',For_Pos_Kin_PUMA(jointloc[0],lPUMA))\n",
        "\n",
        "  jointloc=Inv_Pos_Kin_PUMA(C,lPUMA)\n",
        "  print('C',C)\n",
        "  print('Joint variables for PUMA',jointloc)\n",
        "  print('Verifying C for PUMA',For_Pos_Kin_PUMA(jointloc[0],lPUMA))\n",
        "\n",
        "  jointloc=Inv_Pos_Kin_PUMA(D,lPUMA)\n",
        "  print('D',D)\n",
        "  print('Joint variables for PUMA',jointloc)\n",
        "  print('Verifying D for PUMA',For_Pos_Kin_PUMA(jointloc[0],lPUMA))\n",
        "\n",
        "\n",
        "\n",
        "verify(A,B,C,D)\n",
        "  \n",
        "\n",
        "\n"
      ],
      "execution_count": 222,
      "outputs": [
        {
          "output_type": "stream",
          "name": "stdout",
          "text": [
            "A [0.3, 0.02, 0.2]\n",
            "Joint variables for Stanford [[0.06656816377582381, -0.1647894923382187, 0.054795013082563404], [3.208160817365617, 3.306382145928012, 0.054795013082563404]]\n",
            "Verifying for Stanford A [-1.32861677e-04  2.50000014e-01  1.95205214e-01]\n",
            "B [0.3, -0.02, 0.2]\n",
            "Joint variables for Stanford [[-0.06656816377582381, -0.1647894923382187, 0.054795013082563404], [3.0750244898139694, 3.306382145928012, 0.054795013082563404]]\n",
            "Verifying for Stanford  [0.00044806 0.24999965 0.19520521]\n",
            "C [0.22, 0.02, 0.2]\n",
            "Joint variables for Stanford [[0.09065988720074511, -0.22258890308619653, -0.02350496694187751], [3.232252540790538, 3.3641815566759896, -0.02350496694187751]]\n",
            "Verifying for Stanford C [-0.00048689  0.24999954  0.27350479]\n",
            "D [0.22, -0.02, 0.2]\n",
            "Joint variables for Stanford [[-0.09065988720074511, -0.22258890308619653, -0.02350496694187751], [3.050932766389048, 3.3641815566759896, -0.02350496694187751]]\n",
            "Verifying for Stanford D [0.00030426 0.24999983 0.27350479]\n",
            "\n",
            "A [0.3, 0.02, 0.2]\n",
            "Joint variables for SCARA [[ 5.68487304e+01  1.06069311e+02  5.00000000e-02]\n",
            " [ 5.68487304e+01 -1.06069311e+02  5.00000000e-02]]\n",
            "Verifying A for SCARA [-0.10225855  0.28274227  0.4       ]\n",
            "\n",
            "B [0.3, -0.02, 0.2]\n",
            "Joint variables for SCARA [[ 4.92205808e+01  1.06069311e+02  5.00000000e-02]\n",
            " [ 4.92205808e+01 -1.06069311e+02  5.00000000e-02]]\n",
            "Verifying B for SCARA [-0.06382145  0.29381427  0.4       ]\n",
            "\n",
            "Cmax [0.22, 0.02, 0.2]\n",
            "Joint variables for SCARA [[ 6.89747219e+01  1.27560586e+02  5.00000000e-02]\n",
            " [ 6.89747219e+01 -1.27560586e+02  5.00000000e-02]]\n",
            "Verifying C for SCARA [-0.14996618  0.16220402  0.4       ]\n",
            "\n",
            "D [0.22, -0.02, 0.2]\n",
            "Joint variables for SCARA [[ 5.85858641e+01  1.27560586e+02  5.00000000e-02]\n",
            " [ 5.85858641e+01 -1.27560586e+02  5.00000000e-02]]\n",
            "Verifying D for SCARA [-0.11825782  0.18658802  0.4       ]\n",
            "A [0.3, 0.02, 0.2]\n",
            "Joint variables for PUMA [[3.8140748342903543, 42.99839249293898, -104.88026982404467]]\n",
            "Verifying A for PUMA [0.12715938 0.13547004 0.49161614]\n",
            "B [0.3, -0.02, 0.2]\n",
            "Joint variables for PUMA [[-3.8140748342903543, 42.99839249293898, -104.88026982404467]]\n",
            "Verifying B for PUMA [0.14401682 0.11739163 0.49161614]\n",
            "C [0.22, 0.02, 0.2]\n",
            "Joint variables for PUMA [[5.194428907734806, 50.31090934899147, -126.12862812455407]]\n",
            "Verifying C for PUMA [0.0581054  0.08456076 0.45192385]\n",
            "D [0.22, -0.02, 0.2]\n",
            "Joint variables for PUMA [[-5.194428907734806, 50.31090934899147, -126.12862812455407]]\n",
            "Verifying D for PUMA [0.07240152 0.0726965  0.45192385]\n"
          ]
        }
      ]
    },
    {
      "cell_type": "markdown",
      "metadata": {
        "id": "iCNQBMdjbL2G"
      },
      "source": [
        "## Task 1c\n"
      ]
    },
    {
      "cell_type": "code",
      "metadata": {
        "colab": {
          "base_uri": "https://localhost:8080/"
        },
        "id": "1foE5u88YUg6",
        "outputId": "56717eca-ec2c-4cd1-c148-baaaf9c7b2be"
      },
      "source": [
        "A = [0.40, 0.06, 0.1]\n",
        "B = [0.40, 0.01, 0.1] \n",
        "C = [0.35, 0.01, 0.1]\n",
        "D =[0.35, 0.06,0.1]\n",
        "verify(A,B,C,D)"
      ],
      "execution_count": 225,
      "outputs": [
        {
          "output_type": "stream",
          "name": "stdout",
          "text": [
            "A [0.4, 0.06, 0.1]\n",
            "Joint variables for Stanford [[0.14888994760949725, -0.3551283547555233, 0.18139309220245986], [3.2904826011992903, 3.4967210083453164, 0.18139309220245986]]\n",
            "Verifying for Stanford A [0.00047464 0.25000208 0.06861039]\n",
            "B [0.4, 0.01, 0.1]\n",
            "Joint variables for Stanford [[0.024994793618920156, -0.3586679747243447, 0.17731721238443], [3.1665874472087134, 3.500260628314138, 0.17731721238443]]\n",
            "Verifying for Stanford  [0.00100093 0.25000046 0.07268626]\n",
            "C [0.35, 0.01, 0.1]\n",
            "Joint variables for Stanford [[0.028563657838759998, -0.4047440841038663, 0.13091993909481814], [3.170156311428553, 3.546336737693659, 0.13091993909481814]]\n",
            "Verifying for Stanford C [0.00080019 0.25000043 0.11908333]\n",
            "D [0.35, 0.06, 0.1]\n",
            "Joint variables for Stanford [[0.16977827396833844, -0.3996744581806758, 0.13548670534792762], [3.311370927558132, 3.541267111770469, 0.13548670534792762]]\n",
            "Verifying for Stanford D [2.04297636e-04 2.50001703e-01 1.14516591e-01]\n",
            "\n",
            "A [0.4, 0.06, 0.1]\n",
            "Joint variables for SCARA [[ 44.53730171  72.0130722    0.15      ]\n",
            " [ 44.53730171 -72.0130722    0.15      ]]\n",
            "Verifying A for SCARA [0.06645238 0.3989788  0.2       ]\n",
            "\n",
            "B [0.4, 0.01, 0.1]\n",
            "Joint variables for SCARA [[ 38.27811768  73.692043     0.15      ]\n",
            " [ 38.27811768 -73.692043     0.15      ]]\n",
            "Verifying B for SCARA [0.10272234 0.38671452 0.2       ]\n",
            "\n",
            "Cmax [0.35, 0.01, 0.1]\n",
            "Joint variables for SCARA [[ 47.18665032  91.10014657   0.15      ]\n",
            " [ 47.18665032 -91.10014657   0.15      ]]\n",
            "Verifying C for SCARA [-0.01671816  0.34974348  0.2       ]\n",
            "\n",
            "D [0.35, 0.06, 0.1]\n",
            "Joint variables for SCARA [[ 54.47547387  89.49579063   0.15      ]\n",
            " [ 54.47547387 -89.49579063   0.15      ]]\n",
            "Verifying D for SCARA [-0.05691768  0.35051445  0.2       ]\n",
            "A [0.4, 0.06, 0.1]\n",
            "Joint variables for PUMA [[8.530765609948132, 10.021774320678787, -60.73826046718986]]\n",
            "Verifying A for PUMA [0.35285762 0.11842441 0.46809897]\n",
            "B [0.4, 0.01, 0.1]\n",
            "Joint variables for PUMA [[1.4320961841646465, 10.730467753654535, -62.561257903728745]]\n",
            "Verifying B for PUMA [0.35700263 0.07694257 0.471876  ]\n",
            "C [0.35, 0.01, 0.1]\n",
            "Joint variables for PUMA [[1.6365770416167185, 17.183205138077344, -80.74666588023383]]\n",
            "Verifying C for PUMA [0.27468531 0.09361635 0.49674675]\n",
            "D [0.35, 0.06, 0.1]\n",
            "Joint variables for PUMA [[9.727578551401603, 16.658959439383853, -79.11723814462898]]\n",
            "Verifying D for PUMA [0.26623658 0.13208302 0.49550389]\n"
          ]
        }
      ]
    },
    {
      "cell_type": "markdown",
      "metadata": {
        "id": "IPc-AjOhbT8b"
      },
      "source": [
        "## Task 1d"
      ]
    },
    {
      "cell_type": "markdown",
      "metadata": {
        "id": "TNlvZDDrbW7b"
      },
      "source": [
        "## Task 1e"
      ]
    },
    {
      "cell_type": "markdown",
      "metadata": {
        "id": "z0RP5EC0xktP"
      },
      "source": [
        "#Task 3"
      ]
    },
    {
      "cell_type": "markdown",
      "metadata": {
        "id": "s2ZeG36-OBtC"
      },
      "source": [
        "##Task 3b"
      ]
    },
    {
      "cell_type": "code",
      "metadata": {
        "colab": {
          "base_uri": "https://localhost:8080/",
          "height": 295
        },
        "id": "9D9AIW_oOEIN",
        "outputId": "ad29b309-f1db-4fa1-abd3-f1440ffab05e"
      },
      "source": [
        "import xlrd\n",
        "loc = (\"/content/drive/MyDrive/Colab Notebooks/Gait_DATA.xlsx\")\n",
        " \n",
        "wb = xlrd.open_workbook(loc)\n",
        "sheet = wb.sheet_by_index(0)\n",
        "for i in range(sheet.nrows):\n",
        "  p=sheet.row_values(i)\n",
        "  plt.scatter(p[0],p[1])\n",
        "plt.xlabel('x')\n",
        "plt.ylabel('y')\n",
        "plt.title('Ankle trajectory')\n",
        "plt.grid()\n",
        "plt.show()"
      ],
      "execution_count": 178,
      "outputs": [
        {
          "output_type": "display_data",
          "data": {
            "image/png": "[encoded data removed]",
            "text/plain": [
              "<Figure size 432x288 with 1 Axes>"
            ]
          },
          "metadata": {
            "needs_background": "light"
          }
        }
      ]
    },
    {
      "cell_type": "markdown",
      "metadata": {
        "id": "HYhs7nBRrL2p"
      },
      "source": [
        "## Task 3c"
      ]
    },
    {
      "cell_type": "markdown",
      "metadata": {
        "id": "hiT0dtQ8xnQD"
      },
      "source": [
        "# Task 4"
      ]
    },
    {
      "cell_type": "markdown",
      "metadata": {
        "id": "KvdVVpQcrOWs"
      },
      "source": [
        "## Task 4c"
      ]
    },
    {
      "cell_type": "code",
      "metadata": {
        "colab": {
          "base_uri": "https://localhost:8080/"
        },
        "id": "koA74yhWrotL",
        "outputId": "61eadb95-055a-422a-b991-944b071bb93b"
      },
      "source": [
        "\n",
        "#Repo code for D and V calculation\n",
        "import numpy as np\n",
        "import sympy as sp\n",
        "import matplotlib.pyplot as plt\n",
        "numberoflinks=1\n",
        "# Creating Class Robot and defining functions\n",
        "class Robot():\n",
        "  def __init__(self, numberoflinks, D_q, V_q):\n",
        "    self.numberoflinks = numberoflinks\n",
        "    self.D_q = D_q\n",
        "    self.V_q = V_q\n",
        "\n",
        "  def derive_equations(self):\n",
        "    Phi = [0] * self.numberoflinks # Creating phi matrix\n",
        "    c = [[[0] * self.numberoflinks] * self.numberoflinks] * self.numberoflinks # Creating c matrix\n",
        "    T = [0] * self.numberoflinks # Matrix to store torque values for each link\n",
        "    d = 0\n",
        "    ct = 0\n",
        "\n",
        "    # Calculating Christoffer Symbols\n",
        "    for k in range(self.numberoflinks):\n",
        "      for j in range(self.numberoflinks):\n",
        "        for i in range(self.numberoflinks):\n",
        "          c[i][j][k] = 0.5 * (sp.diff(self.D_q[k][j], q[i]) + sp.diff(self.D_q[k][i], q[j]) - sp.diff(self.D_q[i][j], q[k]))\n",
        "    \n",
        "    for k in range(self.numberoflinks): #corresponds to each link\n",
        "      Phi[k] = sp.diff(self.V_q, q[k])\n",
        "      for j in range(self.numberoflinks):\n",
        "        d = d + self.D_q[k][j] * qddot[j] \n",
        "        for i in range(self.numberoflinks):\n",
        "          ct = ct + c[i][j][k] * qdot[i] * qdot[j]\n",
        "      T[k] = d + ct + Phi[k]\n",
        "\n",
        "    for i in range(self.numberoflinks):\n",
        "      print('T' + str(i+1) + ' = ' + str(T[i]))\n",
        "\n",
        "# Preparing arrays of terms to accept valid input\n",
        "q = []\n",
        "qdot = []\n",
        "qddot = []\n",
        "for i in range(1000):\n",
        "  q.append(sp.symbols('q' + str(i + 1)))\n",
        "  qdot.append(sp.symbols('q\"' + str(i + 1)))\n",
        "  qddot.append(sp.symbols('q\"\"' + str(i + 1)))\n",
        "\n",
        "# Initializing object robot with input [numberoflinks, D_q, V_q]\n",
        "robot = Robot(1, [[5, 15 * sp.cos(q[1] - q[0])], [15 * sp.cos(q[0] - q[0]), 10]], 13 * sp.sin(q[0]) + 45 * (5 * sp.sin(q[0]) + 3 * sp.sin(q[0])))\n",
        "robot.derive_equations()"
      ],
      "execution_count": 232,
      "outputs": [
        {
          "output_type": "stream",
          "name": "stdout",
          "text": [
            "T1 = 5*q\"\"1 + 373*cos(q1)\n"
          ]
        }
      ]
    },
    {
      "cell_type": "code",
      "metadata": {
        "id": "6xuE6X9BwY2x"
      },
      "source": [
        "#Repo code\n",
        "def forwarddynamicscontrol(m1, m2, l1, l2, xd, yd, prev_state):\n",
        "    # g = 0 in case of robot in horizontal plane\n",
        "    g = 9.81\n",
        "    q1 = prev_state[0][0]\n",
        "    print(\"q1\",q1)\n",
        "    q2 = prev_state[1][0]\n",
        "    print(\"q2\",q2)\n",
        "    q1dot = prev_state[2][0]\n",
        "    q2dot = prev_state[3][0]\n",
        "    d11 = (m1 * ((l1/2)** 2) + m2 * (l1 ** 2) + m1*(l1**2)/3)\n",
        "    d12 = m2 * (l1 * (l2/2) * np.cos(q2 - q1))\n",
        "    d21 = m2 * (l1 * (l2/2) * np.cos(q2 - q1))\n",
        "    d22 = m2 * (l2/2 ** 2) +  m1*(l1**2)/3\n",
        "    D = np.array([[d11, d12], [d21, d22]])\n",
        "    C = np.array([[-m2 * l1 * (l2/2) * np.sin(q2 - q1) * ((q2dot) ** 2) ],\n",
        "                  [m2 * l1 * (l2/2) * np.sin(q2 - q1) * (q1dot) ** 2]], dtype=float)\n",
        "    V = np.array([[(m1*(l1/2)+m2*l1) * g * np.cos(q1)], [m2 * g * (l2/2) * np.cos(q2)]],\n",
        "                 dtype=float)\n",
        "    gain = np.array([[10,0],[0,10]])\n",
        "    #x1,y1,x,y = forward_kinematics(np.pi/4,np.pi/4,l1,l2)\n",
        "    q1d,q2d = inverse_kinematics(xd,yd,l1,l2,elbow)\n",
        "    print(q1d,q2d)\n",
        "    X = np.array([[q1],[q2]])\n",
        "    Xd = np.array([[q1d],[q2d]])\n",
        "    Qdot = np.array([[q1dot],[q2dot]])\n",
        "    gain2 = np.array([[0.1,0],[0,0.1]])\n",
        "    tau = C+V+np.matmul(gain,Xd-X)-0*np.matmul(gain2,Qdot)\n",
        "    detinv = (1 / ((D[0][0]) * (D[1][1]) - ((D[0][1]) * (D[1][0]))))\n",
        "    di11 = detinv * D[1][1]\n",
        "    di12 = -1 * detinv * D[0][1]\n",
        "    di21 = -1 * detinv * D[1][0]\n",
        "    di22 = detinv * D[0][0]\n",
        "    Dinv = np.array([[di11, di12], [di21, di22]])\n",
        "    # print(Dinv)\n",
        "    sum = -C - V + tau\n",
        "    qddot = np.matmul(Dinv, sum)\n",
        "    qdot = np.array([[q1dot], [q2dot]])\n",
        "    print(qdot)\n",
        "    statedot = np.row_stack([qdot, qddot])\n",
        "    return statedot"
      ],
      "execution_count": 228,
      "outputs": []
    },
    {
      "cell_type": "code",
      "metadata": {
        "id": "GF6dcsC9wq5E"
      },
      "source": [
        "#Integrator from Repo\n",
        "def runge_kutta_fourth_order(f, ut, prev_state, t0, tn, h, m1, m2, l1, l2):\n",
        "    X = np.zeros([prev_state.shape[0], int((tn - t0) / h) + 1])\n",
        "    X[:][0] = prev_state[:][0]\n",
        "    t = t0\n",
        "    i = 0\n",
        "    time = np.zeros([1, int((tn - t0) / h) + 1])\n",
        "    time[0][0] = t0\n",
        "    while t <= tn:\n",
        "        xd = ut[0][i]\n",
        "        yd = ut[1][i]\n",
        "        # print(prev_state)\n",
        "        k1 = f(m1, m2, l1, l2, xd, yd, prev_state)\n",
        "        t = t + h / 2\n",
        "        k2 = f(m1, m2, l1, l2, xd, yd, (prev_state + (k1 * h / 2)))\n",
        "        k3 = f(m1, m2, l1, l2, xd, yd, prev_state + (k2 * h / 2))\n",
        "        t = t + h / 2\n",
        "        k4 = f(m1, m2, l1, l2, xd, yd, prev_state + (k3 * h))\n",
        "        k = (k1 + 2 * k2 + 2 * k3 + k4) / 6\n",
        "        x_new = prev_state + k * h\n",
        "        # print(x_new)\n",
        "        # store the result of integration for each time step as a column in X\n",
        "        X[:, i] = x_new[:, 0]\n",
        "        print(np.shape(x_new))\n",
        "        i = i + 1\n",
        "        print(np.shape(prev_state))\n",
        "        prev_state = x_new\n",
        "\n",
        "        # print(\"i\",i)\n",
        "    return X"
      ],
      "execution_count": 227,
      "outputs": []
    }
  ]
}