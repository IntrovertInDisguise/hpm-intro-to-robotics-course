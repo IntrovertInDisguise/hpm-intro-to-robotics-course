{
  "nbformat": 4,
  "nbformat_minor": 0,
  "metadata": {
    "colab": {
      "name": "Vignesh_Ramakrishnan_Assignment5_ITR.ipynb",
      "provenance": [],
      "collapsed_sections": [],
      "authorship_tag": "ABX9TyNB5qSncyTZin+oYZ+OV2tj",
      "include_colab_link": true
    },
    "kernelspec": {
      "name": "python3",
      "display_name": "Python 3"
    },
    "language_info": {
      "name": "python"
    }
  },
  "cells": [
    {
      "cell_type": "markdown",
      "metadata": {
        "id": "view-in-github",
        "colab_type": "text"
      },
      "source": [
        "<a href=\"https://colab.research.google.com/github/IntrovertInDisguise/iitgn-robotics/blob/main/Vignesh_Ramakrishnan_Assignment5_ITR.ipynb\" target=\"_parent\"><img src=\"https://colab.research.google.com/assets/colab-badge.svg\" alt=\"Open In Colab\"/></a>"
      ]
    },
    {
      "cell_type": "markdown",
      "metadata": {
        "id": "b7d4N-f0ErMk"
      },
      "source": [
        "### Q1 : Viewed UMichigan control tutorial."
      ]
    },
    {
      "cell_type": "code",
      "metadata": {
        "id": "av4TgsZgxxFT"
      },
      "source": [
        "#importing some useful libraries from miniproject\n",
        "%matplotlib inline\n",
        "import numpy as np\n",
        "import matplotlib.pyplot as plt\n",
        "import scipy.integrate as integrate \n",
        "import matplotlib.animation as animation\n",
        "from matplotlib.animation import FuncAnimation\n",
        "from matplotlib import rc\n",
        "from IPython.display import HTML\n",
        "from numpy import sin, cos,arctan,arccos\n",
        "from collections import deque\n",
        "import sympy as sp\n",
        "#Acceleration due to gravity\n",
        "g=9.81"
      ],
      "execution_count": 3,
      "outputs": []
    },
    {
      "cell_type": "markdown",
      "metadata": {
        "id": "nTR2EMX_FAGV"
      },
      "source": [
        "### Q2 : Stanford Manipulator"
      ]
    },
    {
      "cell_type": "code",
      "metadata": {
        "id": "fCnGNwxOFrCH"
      },
      "source": [
        "#specs\n",
        "l1=10\n",
        "l2=10\n",
        "\n",
        "m1=10\n",
        "m2=10\n",
        "m3=20\n",
        "\n",
        "i1= m1*(l1**2)/12\n",
        "i2= m2*(l2**2)/12\n",
        "\n"
      ],
      "execution_count": 4,
      "outputs": []
    },
    {
      "cell_type": "code",
      "metadata": {
        "id": "4dmiXCWrFuHS",
        "colab": {
          "base_uri": "https://localhost:8080/"
        },
        "outputId": "504bc037-59c6-459e-a92f-712f83f2722d"
      },
      "source": [
        "#Reference http://www.cs.columbia.edu/~allen/F15/NOTES/stanfordinvkin.pdf\n",
        "def StanfordInverseKinematics(P0,l1,l2):\n",
        "    x = P0[0]\n",
        "    y = P0[1]\n",
        "    z = P0[2]\n",
        "    phi = np.arctan2(y,x)\n",
        "    r = np.sqrt((x**2) + (y**2))\n",
        "    s = (z - l1)\n",
        "    t = np.sqrt(((r**2) - (l2**2)))\n",
        "    theta1 = phi - np.arctan2(l2,t)\n",
        "    theta2 = np.arctan2(np.cos(theta1)*x + np.sin(theta1)*y, s)\n",
        "    d3 = np.sin(theta2)*(np.cos(theta1)*x + np.sin(theta1)*y) + np.cos(theta2)*s\n",
        "\n",
        "    #Alternate vals\n",
        "    #    theta1 = phi - np.arctan2(l2,t)\n",
        "    #    theta2 = np.arctan2(np.cos(theta1)*x - np.sin(theta1)*y, s)\n",
        "    #    d3 = np.sin(theta2)*(np.cos(theta1)*x - np.sin(theta1)*y) + np.cos(theta2)*s\n",
        "    \n",
        "    return theta1, theta2, d3\n",
        "    \n",
        "#For End effector position    \n",
        "def StanfordForwardKinematicsEE(theta1,theta2,d3,l1,l2):\n",
        "    x = -l2*np.sin(theta1) + d3*np.sin(theta2)*np.cos(theta1)\n",
        "    y = l2*np.cos(theta1) + d3*np.sin(theta2)*np.sin(theta1)\n",
        "    z = d3*np.cos(theta2) + l1\n",
        "    return [x,y,z]\n",
        "\n",
        "#For J1 joint position\n",
        "def StanfordForwardKinematicsJ1(theta1,theta2,d3,l1,l2):\n",
        "    x = 0\n",
        "    y = 0\n",
        "    z = l1\n",
        "    return [x,y,z]\n",
        "#For J2 joint position\n",
        "def StanfordForwardKinematicsJ2(theta1,theta2,d3,l1,l2):\n",
        "    x = -l2*np.sin(theta1) \n",
        "    y = l2*np.cos(theta1)\n",
        "    z = l1\n",
        "    return [x,y,z]\n",
        "def StanfordJacobian(theta1,theta2,d3,l1,l2):\n",
        "  J=[[0,0,1,0,0,0],[-np.cos(theta1),-np.sin(theta1),0,l1*np.sin(theta1),-l1*np.cos(theta1),0],[0,0,0,-np.sin(theta1)*np.cos(theta2),np.cos(theta1)*np.cos(theta2),-np.sin(theta2)]]\n",
        "  return J\n",
        "\n",
        "#Post discussion with Suraj\n",
        "def StanfordDynamicsCalc(theta1,theta2,d3,l1,l2):\n",
        "  q1, q2, q3,q1dot, q1ddot, q2dot, q2ddot, q3dot,q3ddot=sp.symbols(\"q1 q2 q3 q1d q1dd q2d q2dd q3d q3dd\")\n",
        "  dc2=(0.5*d3) + l2\n",
        "  #numpy version\n",
        "  Jvc1,Jvc2,Jvc3=[[0,0,0],[0,0,0],[0,0,0]],[[-0.5*l2*np.sin(theta1)*np.cos(theta2),-0.5*l2*np.cos(theta1)*np.sin(theta2),0],[0.5*l2*np.cos(theta1)*np.cos(theta2), -0.5*l2*np.sin(theta1)*np.sin(theta2), 0],[0,0.5*l2*np.cos(theta2),0]],[[-dc2*np.sin(theta1)*np.cos(theta2),-dc2*np.cos(theta1)*np.sin(theta2),0.5*np.cos(theta1)*np.cos(theta2)],[dc2*np.cos(theta1)*np.cos(theta2),-dc2*np.sin(theta1)*np.sin(theta2),0.5*np.sin(theta1)*np.cos(theta2)],[0,dc2*np.cos(theta2),0.5*np.sin(theta2)]]\n",
        "  #Sympy version\n",
        "  Jvc1s,Jvc2s,Jvc3s=[[0,0,0],[0,0,0],[0,0,0]],[[-0.5*l2*sp.sin(q1)*sp.cos(q2),-0.5*l2*sp.cos(q1)*sp.sin(q2),0],[0.5*l2*sp.cos(q1)*sp.cos(q2), -0.5*l2*sp.sin(q1)*sp.sin(q2), 0],[0,0.5*l2*sp.cos(q2),0]],[[-dc2*sp.sin(q1)*sp.cos(q2),-dc2*sp.cos(q1)*sp.sin(q2),0.5*sp.cos(q1)*sp.cos(q2)],[dc2*sp.cos(q1)*sp.cos(q2),-dc2*sp.sin(q1)*sp.sin(q2),0.5*sp.sin(q1)*sp.cos(q2)],[0,dc2*sp.cos(q2),0.5*sp.sin(q2)]]\n",
        "  \n",
        "  Icom=[[(12/4)*(i1+i2)+(i1+i2),0,0],[0,i2+(12/4)*i2,0],[0,0,0]]\n",
        "  #Jvc1=np.array(Jvc1)\n",
        "  #Jvc2=np.array(Jvc2)\n",
        "  #Jvc3=np.array(Jvc3)\n",
        "  JtJ1=(np.transpose((Jvc1))@(Jvc1))*m1\n",
        "  JtJ2=(np.transpose((Jvc2))@(Jvc2))*m2\n",
        "  JtJ3=(np.transpose((Jvc3))@(Jvc3))*m3\n",
        "  #Dq\n",
        "  D=np.add(np.add(np.add(JtJ1,JtJ2),JtJ3),Icom)\n",
        "  Dqs= (np.transpose((Jvc1s))@(Jvc1s))*m1+(np.transpose((Jvc2s))@(Jvc2s))*m2 +(np.transpose((Jvc3s))@(Jvc3s))*m3\n",
        "  q=[q1,q2,q3]\n",
        "  #Christoffel\n",
        "  C=[[[0,0,0]]*3]*3\n",
        "  SS=[[[0,0,0]]*3]*3\n",
        "  for k in range(0,3):\n",
        "    for j in range(0,3):\n",
        "      for i in range(0,3):\n",
        "        C[i][j][k] = 0.5 * (sp.diff(D[k][j], q[i]) + sp.diff(D[k][i], q[j]) - sp.diff(D[i][j], q[k]))\n",
        "  for k in range(0,3):\n",
        "    for j in range(0,3):\n",
        "      for i in range(0,3):\n",
        "        SS[i][j][k]= sp.diff(Dqs[i][j], q[k])-2*C[i][j][k]\n",
        "  print(\"SkewSymmetric\")\n",
        "  print(SS)\n",
        "  \n",
        "  V = m1*g*l1*0.5 +  m2*g*l1 + m3*g*(l1-(d3*sp.sin(q[2])))\n",
        "  Phi = [0] * 3\n",
        "  C_total = 0\n",
        "  D_total=0\n",
        "  Tau = [0] * 3\n",
        "  qdot_arr = np.array([q1dot, q2dot, q3dot])\n",
        "  qddot_arr = np.array([q1ddot, q2ddot, q3ddot])\n",
        "  for k in range(3): #corresponds to each link\n",
        "    Phi[k] = sp.diff(V, q[k])\n",
        "    for j in range(3):\n",
        "      D_total = D_total + D[k][j] * qddot_arr[j]\n",
        "      for i in range(3):\n",
        "        C_total = C_total + C[i][j][k] * qdot_arr[i] * qdot_arr[j]\n",
        "      Tau[k] = D_total + C_total + Phi[k]\n",
        "  \n",
        "  print(\"Tau\")    \n",
        "  \n",
        "\n",
        "\n",
        "  return sp.simplify(Tau[0]),sp.simplify(Tau[1]),sp.simplify(Tau[2])\n",
        "print(StanfordDynamicsCalc(10,20,5,l1,l2))\n",
        "\n",
        "\n",
        "\n",
        "def StanfordAnimate(i):\n",
        "  \n",
        "  return 0"
      ],
      "execution_count": 28,
      "outputs": [
        {
          "output_type": "stream",
          "name": "stdout",
          "text": [
            "SkewSymmetric\n",
            "[[[0, -5.0*sin(q1)**2*sin(q2)*cos(q2) - 5.0*sin(q2)*cos(q1)**2*cos(q2) + 5.0*sin(q2)*cos(q2), 0], [0, -5.0*sin(q1)**2*sin(q2)*cos(q2) - 5.0*sin(q2)*cos(q1)**2*cos(q2) + 5.0*sin(q2)*cos(q2), 0], [0, -5.0*sin(q1)**2*sin(q2)*cos(q2) - 5.0*sin(q2)*cos(q1)**2*cos(q2) + 5.0*sin(q2)*cos(q2), 0]], [[0, -5.0*sin(q1)**2*sin(q2)*cos(q2) - 5.0*sin(q2)*cos(q1)**2*cos(q2) + 5.0*sin(q2)*cos(q2), 0], [0, -5.0*sin(q1)**2*sin(q2)*cos(q2) - 5.0*sin(q2)*cos(q1)**2*cos(q2) + 5.0*sin(q2)*cos(q2), 0], [0, -5.0*sin(q1)**2*sin(q2)*cos(q2) - 5.0*sin(q2)*cos(q1)**2*cos(q2) + 5.0*sin(q2)*cos(q2), 0]], [[0, -5.0*sin(q1)**2*sin(q2)*cos(q2) - 5.0*sin(q2)*cos(q1)**2*cos(q2) + 5.0*sin(q2)*cos(q2), 0], [0, -5.0*sin(q1)**2*sin(q2)*cos(q2) - 5.0*sin(q2)*cos(q1)**2*cos(q2) + 5.0*sin(q2)*cos(q2), 0], [0, -5.0*sin(q1)**2*sin(q2)*cos(q2) - 5.0*sin(q2)*cos(q1)**2*cos(q2) + 5.0*sin(q2)*cos(q2), 0]]]\n",
            "Tau\n",
            "(937.415189067002*q1dd + 1.53712588996954e-14*q2dd - 2.56468594162563e-16*q3dd, 937.415189067002*q1dd + 1375.0*q2dd + 2.55418258049318e-16*q3dd, 937.415189067002*q1dd + 1375.0*q2dd + 2.5*q3dd - 490.5*cos(q3))\n"
          ]
        }
      ]
    },
    {
      "cell_type": "code",
      "metadata": {
        "id": "aA0IlzNPFuaJ"
      },
      "source": [
        "#Animation code from miniproject\n",
        "\n",
        "\n",
        "fig0 = plt.figure(figsize=(5,4))\n",
        "ax = fig0.add_subplot(111,autoscale_on=False, xlim=(-(l1+l2), (l1+l2)), ylim=(-(l1+l2), 1.))\n",
        "ax.set_aspect('equal')\n",
        "ax.grid()\n",
        "\n",
        "line, = ax.plot([], [], 'o-', lw=2)\n",
        "trace, = ax.plot([], [], ',-', lw=1)\n",
        "time_template = 'time = %.1fs'\n",
        "time_text = ax.text(0.05, 0.9, 's', transform=ax.transAxes)\n",
        "dt=0.02\n",
        "framescount=1000\n",
        "def frameBuild(i):\n",
        "  robot_pos_x=[0,joint[0,i],joint1[0,i],endeff[0,i]]\n",
        "  robot_pos_y=[0,joint[1,i],joint1[1,i],endeff[1,i]]\n",
        "  robot_pos_z=[0,joint[2,i],joint1[2,i],endeff[2,i]]\n",
        "\n",
        "  frames_x, frames_y,frames_z = deque(maxlen=framescount), deque(maxlen=framescount), deque(maxlen=framescount)\n",
        "  if i == 0:\n",
        "        frames_x.clear()\n",
        "        frames_y.clear()\n",
        "        frames_z.clear()\n",
        "  frames_x.appendleft(robot_pos_x[3])\n",
        "  frames_y.appendleft(robot_pos_y[3])\n",
        "  frames_z.appendleft(robot_pos_z[3])\n",
        "\n",
        "  line.set_data(robot_pos_x, robot_pos_y,robot_pos_z)\n",
        "  trace.set_data(frames_x, frames_y, frames_z)\n",
        "  time_text.set_text(time_template % (i*dt))\n",
        "  return (line, trace, time_text)\n",
        "\n",
        "anim_pos = animation.FuncAnimation(fig0, frameBuild, len(resultangles), interval=dt*1000, blit=True)\n",
        "HTML(anim_pos.to_html5_video())"
      ],
      "execution_count": null,
      "outputs": []
    },
    {
      "cell_type": "markdown",
      "metadata": {
        "id": "C6gFIDSIFc9T"
      },
      "source": [
        "### Q3 : SCARA Manipulator"
      ]
    },
    {
      "cell_type": "code",
      "metadata": {
        "id": "325RX8OUB3VF"
      },
      "source": [
        "#specs\n",
        "l0=10\n",
        "l1=5\n",
        "l2=5\n",
        "\n",
        "m0=10\n",
        "m1=10\n",
        "m2=10\n",
        "m3=10 #d3\n",
        "\n",
        "i0= m0*((l0*0.5)**2)/3\n",
        "i1= m1*((l1*0.5)**2)/3\n",
        "i2= m2*((l1+l2*0.5)**2)/3\n"
      ],
      "execution_count": 31,
      "outputs": []
    },
    {
      "cell_type": "code",
      "metadata": {
        "id": "-gy8JQsiFsFS",
        "colab": {
          "base_uri": "https://localhost:8080/"
        },
        "outputId": "506e0b38-d764-4a31-a19e-295c66c404a0"
      },
      "source": [
        "# From Repository code\n",
        "def SCARAInverseKinematics(P0,l0,l1,l2):\n",
        "    x = P0[0]\n",
        "    y = P0[1]\n",
        "    z = P0[2]\n",
        "    r = abs(((x**2)+(y**2)-(l1**2)-(l2**2))/(2*l1*l2))\n",
        "    if (r**2)>1:\n",
        "        print('not possible')\n",
        "    theta2 = np.arctan(np.sqrt(1-r**2)/r)\n",
        "    theta1 = np.arctan(y/x) - np.arctan((l2*np.sin(theta2))/(l1+l2*np.cos(theta2)))\n",
        "    d3 = l0-z\n",
        "    theta1 = theta1*180/np.pi\n",
        "    theta2 = theta2*180/np.pi\n",
        "    return theta1,theta2,d3\n",
        "\n",
        "def SCARAForwardKinematicsEE(theta1,theta2,d3,l0,l1,l2):\n",
        "    theta1= theta1*np.pi/180\n",
        "    theta2=theta2*np.pi/180\n",
        "    p0= [l1*np.cos(theta1)+ l2*np.cos(theta1+theta2),\n",
        "                  l1*np.sin(theta1)+ l2*np.sin(theta1+theta2),\n",
        "                  l0-d3]\n",
        "    return p0\n",
        "\n",
        "def SCARAForwardKinematicsBasePrismaticJoint(theta1,theta2,d3,l0,l1,l2):\n",
        "    theta1= theta1*np.pi/180\n",
        "    theta2=theta2*np.pi/180\n",
        "    p0= [l1*np.cos(theta1)+ l2*np.cos(theta1+theta2),l1*np.sin(theta1)+ l2*np.sin(theta1+theta2),l0]\n",
        "    return p0\n",
        "\n",
        "def SCARAForwardKinematicsJ2(theta1,theta2,d3,l0,l1,l2):\n",
        "    theta1= theta1*np.pi/180\n",
        "    theta2=theta2*np.pi/180\n",
        "    p0= [l1*np.cos(theta1),l1*np.sin(theta1),l0]\n",
        "    return p0\n",
        "\n",
        "def SCARAForwardKinematicsJ1(theta1,theta2,d3,l0,l1,l2):\n",
        "    theta1= theta1*np.pi/180\n",
        "    theta2=theta2*np.pi/180\n",
        "    p0= [0,0,l0]\n",
        "    return p0\n",
        "def SCARAJacobian(theta1,theta2,d3,l0,l1,l2):\n",
        "    J=[[0,0,1,0,0,0],[0,0,1,l1*(np.sin(theta1)),-l1*(np.cos(theta1)),0],[0,0,1,(l1*np.sin(theta1))+(l2*np.sin(theta1+theta2)),-(l1*np.cos(theta1))-(l2*np.cos(theta1+theta2)),0],[0,0,0,0,0,1]]\n",
        "    return J\n",
        "def SCARADynamicsCalc(theta1,theta2,d3,l0,l1,l2):\n",
        "    q1, q2, q3,q1dot, q1ddot, q2dot, q2ddot, q3dot,q3ddot=sp.symbols(\"q1 q2 q3 q1d q1dd q2d q2dd q3d q3dd\")\n",
        "    Jvc1,Jvc2,Jvc3=[[-0.5*l1*np.sin(theta1),0,0],[0.5*l1*np.cos(theta1),0,0],[0,0,0]],[[-l1*np.sin(theta1)-0.5*l2*np.sin(theta1+theta2),-0.5*l2*np.sin(theta1+theta2),0],[l1*np.cos(theta1)+0.5*l2*np.cos(theta1+theta2), 0.5*l2*np.cos(theta1+theta2), 0],[0,0,0]],[[-l1*np.sin(theta1)-l2*np.sin(theta1+theta2),-l2*np.sin(theta1+theta2),0],[l1*np.cos(theta1)+l2*np.cos(theta1+theta2),l2*np.cos(theta1+theta2),0],[0,0,-0.5]]\n",
        "    Jvc1s,Jvc2s,Jvc3s=[[-0.5*l1*sp.sin(q1),0,0],[0.5*l1*sp.cos(q1),0,0],[0,0,0]],[[-l1*sp.sin(q1)-0.5*l2*sp.sin(q1+q2),-0.5*l2*sp.sin(q1+q2),0],[l1*sp.cos(q1)+0.5*l2*sp.cos(q1+q2), 0.5*l2*sp.cos(q1+q2), 0],[0,0,0]],[[-l1*sp.sin(q1)-l2*sp.sin(q1+q2),-l2*sp.sin(q1+q2),0],[l1*sp.cos(q1)+l2*sp.cos(q1+q2),l2*sp.cos(q1+q2),0],[0,0,-0.5]]\n",
        "    Icom=[[(12/4)*(i1+i2)+(i1+i2),i2+(12/4)*i2,0],[i2+(12/4)*i2,i2+(12/4)*i2,0],[0,0,0]]\n",
        "    JtJ1=(np.transpose((Jvc1))@(Jvc1))*m1\n",
        "    JtJ2=(np.transpose((Jvc2))@(Jvc2))*m2\n",
        "    JtJ3=(np.transpose((Jvc3))@(Jvc3))*m3\n",
        "    #Dq\n",
        "    D=np.add(np.add(np.add(JtJ1,JtJ2),JtJ3),Icom)\n",
        "    Dqs= (np.transpose((Jvc1s))@(Jvc1s))*m1+(np.transpose((Jvc2s))@(Jvc2s))*m2 +(np.transpose((Jvc3s))@(Jvc3s))*m3\n",
        "    q=[q1,q2,q3]\n",
        "    #Christoffel\n",
        "    C=[[[0,0,0]]*3]*3\n",
        "    SS=[[[0,0,0]]*3]*3\n",
        "    for k in range(0,3):\n",
        "      for j in range(0,3):\n",
        "        for i in range(0,3):\n",
        "          C[i][j][k] = 0.5 * (sp.diff(D[k][j], q[i]) + sp.diff(D[k][i], q[j]) - sp.diff(D[i][j], q[k]))\n",
        "    for k in range(0,3):\n",
        "      for j in range(0,3):\n",
        "        for i in range(0,3):\n",
        "          SS[i][j][k]= sp.diff(Dqs[i][j], q[k])-2*C[i][j][k]\n",
        "    print(\"SkewSymmetric\")\n",
        "    print(SS)\n",
        "    V = m0*g*l0*0.5 +  m1*g*l0 + m2* g* l0 + m3*g*(l1-(0.5*d3*sp.sin(q[2])))\n",
        "    Phi = [0] * 3\n",
        "    C_total = 0\n",
        "    D_total=0\n",
        "    Tau = [0] * 3\n",
        "    qdot_arr = np.array([q1dot, q2dot, q3dot])\n",
        "    qddot_arr = np.array([q1ddot, q2ddot, q3ddot])\n",
        "    for k in range(3): #corresponds to each link\n",
        "      Phi[k] = sp.diff(V, q[k])\n",
        "      for j in range(3):\n",
        "        D_total = D_total + D[k][j] * qddot_arr[j]\n",
        "        for i in range(3):\n",
        "          C_total = C_total + C[i][j][k] * qdot_arr[i] * qdot_arr[j]\n",
        "      Tau[k] = D_total + C_total + Phi[k]\n",
        "\n",
        "    return sp.simplify(Tau[0]),sp.simplify(Tau[1]),sp.simplify(Tau[2])\n",
        "print(SCARADynamicsCalc(10,20,5,l0,l1,l2))\n",
        "\n",
        "\n"
      ],
      "execution_count": 32,
      "outputs": [
        {
          "output_type": "stream",
          "name": "stdout",
          "text": [
            "SkewSymmetric\n",
            "[[[0, 0, 0], [0, 0, 0], [0, 0, 0]], [[0, 0, 0], [0, 0, 0], [0, 0, 0]], [[0, 0, 0], [0, 0, 0], [0, 0, 0]]]\n",
            "(2014.39487969338*q1dd + 1215.53077318002*q2dd, 3229.9256528734*q1dd + 2278.03077318002*q2dd, 3229.9256528734*q1dd + 2278.03077318002*q2dd + 2.5*q3dd - 245.25*cos(q3))\n"
          ]
        }
      ]
    },
    {
      "cell_type": "code",
      "metadata": {
        "id": "7F6N095tFvmP"
      },
      "source": [
        "\n",
        "\n",
        "fig0 = plt.figure(figsize=(5,4))\n",
        "ax = fig0.add_subplot(111,autoscale_on=False, xlim=(-(l1+l2), (l1+l2)), ylim=(-(l1+l2), 1.))\n",
        "ax.set_aspect('equal')\n",
        "ax.grid()\n",
        "\n",
        "line, = ax.plot([], [], 'o-', lw=2)\n",
        "trace, = ax.plot([], [], ',-', lw=1)\n",
        "time_template = 'time = %.1fs'\n",
        "time_text = ax.text(0.05, 0.9, 's', transform=ax.transAxes)\n",
        "dt=0.02\n",
        "framescount=1000\n",
        "def frameBuild(i):\n",
        "  robot_pos_x=[0,joint[0,i],joint1[0,i],endeff[0,i]]\n",
        "  robot_pos_y=[0,joint[1,i],joint1[1,i],endeff[1,i]]\n",
        "  robot_pos_z=[0,joint[2,i],joint1[2,i],endeff[2,i]]\n",
        "\n",
        "  frames_x, frames_y,frames_z = deque(maxlen=framescount), deque(maxlen=framescount), deque(maxlen=framescount)\n",
        "  if i == 0:\n",
        "        frames_x.clear()\n",
        "        frames_y.clear()\n",
        "        frames_z.clear()\n",
        "  frames_x.appendleft(robot_pos_x[3])\n",
        "  frames_y.appendleft(robot_pos_y[3])\n",
        "  frames_z.appendleft(robot_pos_z[3])\n",
        "\n",
        "  line.set_data(robot_pos_x, robot_pos_y,robot_pos_z)\n",
        "  trace.set_data(frames_x, frames_y, frames_z)\n",
        "  time_text.set_text(time_template % (i*dt))\n",
        "  return (line, trace, time_text)\n",
        "\n",
        "anim_pos = animation.FuncAnimation(fig0, frameBuild, len(resultangles), interval=dt*1000, blit=True)\n",
        "HTML(anim_pos.to_html5_video())"
      ],
      "execution_count": null,
      "outputs": []
    },
    {
      "cell_type": "code",
      "metadata": {
        "id": "LPNDSbA_Fvzk"
      },
      "source": [
        ""
      ],
      "execution_count": null,
      "outputs": []
    },
    {
      "cell_type": "markdown",
      "metadata": {
        "id": "8Y9wzOBXFdDo"
      },
      "source": [
        "### Q4 : PUMA Manipulator"
      ]
    },
    {
      "cell_type": "code",
      "metadata": {
        "id": "ASt8QCEMCc3K"
      },
      "source": [
        "#specs\n",
        "l1=10\n",
        "l2=10\n",
        "l3=10\n",
        "\n",
        "m1=10\n",
        "m2=10\n",
        "m3=10\n",
        "\n",
        "il1= m1*(l1**2)/3\n",
        "il2= m2*(l2**2)/3\n",
        "il3= m3*(l3**2)/3\n"
      ],
      "execution_count": 4,
      "outputs": []
    },
    {
      "cell_type": "code",
      "metadata": {
        "id": "7Lr65Kd2Egjt",
        "colab": {
          "base_uri": "https://localhost:8080/",
          "height": 129
        },
        "outputId": "cb1355ff-1750-47b4-8a34-61c56840e00d"
      },
      "source": [
        "# From Repository code\n",
        "\n",
        "def PUMAInverseKinematics(P0,l1,l2,l3):\n",
        "    x = P0[0]\n",
        "    y = P0[1]\n",
        "    z = P0[2]\n",
        "    theta1 = np.rad2deg(np.arctan2(y,x))\n",
        "    D = ((x**2)+(y**2)+(z-l1)*(z-l1)-l2**2-l3**2)/(2*l2*l3)\n",
        "    if (D**2)>1:\n",
        "        print(\"Not possible\")\n",
        "    theta3 = (np.arctan2((-np.sqrt(1-D*D)),D))\n",
        "    theta2 = np.rad2deg(np.arctan2(z-l1,(np.sqrt(x**2+y**2)))-np.arctan2((l3*np.sin(theta3)),(l2+l3*np.cos(theta3))))\n",
        "    theta3 = np.rad2deg(theta3)\n",
        "    return theta1,theta2,theta3\n",
        "\n",
        "def forward_kinematics_puma(theta1,theta2,theta3,l1,l2,l3):\n",
        "    theta1 = theta1*np.pi/180\n",
        "    theta2 = theta2*np.pi/180\n",
        "    theta3 = theta3*np.pi/180\n",
        "    x= np.cos(theta1)* (l3*np.cos(theta2+theta3)+ l2*np.cos(theta2))\n",
        "    y= np.sin(theta1) * (l3*np.cos(theta2+theta3)+ l2*np.cos(theta2))\n",
        "    z= l1+ l3*np.sin(theta2+theta3) +l2*np.sin(theta2)\n",
        "    return x,y,z\n",
        "\n",
        "def jacobianPUMA(theta1,theta2,theta3,l1,l2,l3):\n",
        "    J=[[-l1*np.sin(theta1)-l2*np.sin(theta1+theta2),l1*np.cos(theta1)+l2*np.cos(theta1+theta2),0,0,0,1],[],[]]"
      ],
      "execution_count": 5,
      "outputs": [
        {
          "output_type": "error",
          "ename": "SyntaxError",
          "evalue": "ignored",
          "traceback": [
            "\u001b[0;36m  File \u001b[0;32m\"<ipython-input-5-7012200ba6dd>\"\u001b[0;36m, line \u001b[0;32m26\u001b[0m\n\u001b[0;31m    \u001b[0m\n\u001b[0m    ^\u001b[0m\n\u001b[0;31mSyntaxError\u001b[0m\u001b[0;31m:\u001b[0m unexpected EOF while parsing\n"
          ]
        }
      ]
    },
    {
      "cell_type": "code",
      "metadata": {
        "id": "mBNxQFMjFwnF"
      },
      "source": [
        "#states[q1,q2,q3,q1d,q2d,q3d]\n",
        "def xdotCalc(state,t,tau1,tau2):\n",
        "  dstate=np.zeros_like(state)\n",
        "  #angular position states\n",
        "  q1=state[0]\n",
        "  q2=state[1]\n",
        "  q3=state[2]\n",
        "  #angular velocity states\n",
        "  q1dot=state[3]\n",
        "  q2dot=state[4]\n",
        "  q3dot=state[5]\n",
        "  dstate[0]=q1dot\n",
        "  dstate[1]=q1ddot\n",
        "  dstate[2]=q2dot\n",
        "  dstate[3]=q2ddot\n",
        "  return dstate.tolist()"
      ],
      "execution_count": null,
      "outputs": []
    },
    {
      "cell_type": "code",
      "metadata": {
        "id": "3zjhAKlA7Uzk"
      },
      "source": [
        "\n"
      ],
      "execution_count": null,
      "outputs": []
    },
    {
      "cell_type": "code",
      "metadata": {
        "id": "C38fLqEWFwvg"
      },
      "source": [
        "initPos=[0,l3+l1/2,l2+l3/2]\n",
        "FinPos=[4,3,5]\n",
        "def trajtrackPUMA(initPos,FinPos):\n",
        "  initq=[PUMAInverseKinematics(initPos,l1,l2,l3)]\n",
        "  finalq=[PUMAInverseKinematics(FinPos,l1,l2,l3)]\n",
        "  currentpos=initPos\n",
        "  dt=0.02\n",
        "  Kd=0.1\n",
        "  Kp=5\n",
        "  while(np.linalg.norm(np.array(FinPos)-np.array(currentpos)))>0.1:\n",
        "    \n",
        "\n",
        "\n",
        "\n",
        "\n"
      ],
      "execution_count": null,
      "outputs": []
    }
  ]
}