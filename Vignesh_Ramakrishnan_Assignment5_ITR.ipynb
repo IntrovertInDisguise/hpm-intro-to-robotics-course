{
  "nbformat": 4,
  "nbformat_minor": 0,
  "metadata": {
    "colab": {
      "name": "Vignesh_Ramakrishnan_Assignment5_ITR.ipynb",
      "provenance": [],
      "collapsed_sections": [],
      "authorship_tag": "ABX9TyNs5SpPZkJv1HPFaXK3v/il",
      "include_colab_link": true
    },
    "kernelspec": {
      "name": "python3",
      "display_name": "Python 3"
    },
    "language_info": {
      "name": "python"
    }
  },
  "cells": [
    {
      "cell_type": "markdown",
      "metadata": {
        "id": "view-in-github",
        "colab_type": "text"
      },
      "source": [
        "<a href=\"https://colab.research.google.com/github/IntrovertInDisguise/iitgn-robotics/blob/main/Vignesh_Ramakrishnan_Assignment5_ITR.ipynb\" target=\"_parent\"><img src=\"https://colab.research.google.com/assets/colab-badge.svg\" alt=\"Open In Colab\"/></a>"
      ]
    },
    {
      "cell_type": "markdown",
      "metadata": {
        "id": "b7d4N-f0ErMk"
      },
      "source": [
        "### Q1 : Viewed UMichigan control tutorial."
      ]
    },
    {
      "cell_type": "code",
      "metadata": {
        "id": "av4TgsZgxxFT"
      },
      "source": [
        "#importing some useful libraries from miniproject\n",
        "%matplotlib inline\n",
        "import numpy as np\n",
        "import matplotlib.pyplot as plt\n",
        "import scipy.integrate as integrate \n",
        "import matplotlib.animation as animation\n",
        "from matplotlib.animation import FuncAnimation\n",
        "from matplotlib import rc\n",
        "from IPython.display import HTML\n",
        "from numpy import sin, cos,arctan,arccos\n",
        "from collections import deque\n",
        "\n",
        "#Acceleration due to gravity\n",
        "g=9.81"
      ],
      "execution_count": 2,
      "outputs": []
    },
    {
      "cell_type": "markdown",
      "metadata": {
        "id": "nTR2EMX_FAGV"
      },
      "source": [
        "### Q2 : Stanford Manipulator"
      ]
    },
    {
      "cell_type": "code",
      "metadata": {
        "id": "fCnGNwxOFrCH"
      },
      "source": [
        "#specs\n",
        "l1=10\n",
        "l2=10\n",
        "\n",
        "m1=10\n",
        "m2=10\n",
        "m3=20\n",
        "\n",
        "i1= m1*(l1**2)/12\n",
        "i2= m2*(l2**2)/12\n",
        "i3= m3*(l3**2)/12\n"
      ],
      "execution_count": 1,
      "outputs": []
    },
    {
      "cell_type": "code",
      "metadata": {
        "id": "4dmiXCWrFuHS"
      },
      "source": [
        "#Reference http://www.cs.columbia.edu/~allen/F15/NOTES/stanfordinvkin.pdf\n",
        "def StanfordInverseKinematics(P0,l1,l2):\n",
        "    x = P0[0]\n",
        "    y = P0[1]\n",
        "    z = P0[2]\n",
        "    phi = np.arctan2(y,x)\n",
        "    r = np.sqrt((x**2) + (y**2))\n",
        "    s = (z - l1)\n",
        "    t = np.sqrt(((r**2) - (l2**2)))\n",
        "    theta1 = phi - np.arctan2(l2,t)\n",
        "    theta2 = np.arctan2(np.cos(theta1)*x + np.sin(theta1)*y, s)\n",
        "    d3 = np.sin(theta2)*(np.cos(theta1)*x + np.sin(theta1)*y) + np.cos(theta2)*s\n",
        "\n",
        "    #Alternate vals\n",
        "    #    theta1 = phi - np.arctan2(l2,t)\n",
        "    #    theta2 = np.arctan2(np.cos(theta1)*x - np.sin(theta1)*y, s)\n",
        "    #    d3 = np.sin(theta2)*(np.cos(theta1)*x - np.sin(theta1)*y) + np.cos(theta2)*s\n",
        "    \n",
        "    return theta1, theta2, d3\n",
        "    \n",
        "#For End effector position    \n",
        "def StanfordForwardKinematicsEE(theta1,theta2,d3,l1,l2):\n",
        "    x = -l2*np.sin(theta1) + d3*np.sin(theta2)*np.cos(theta1)\n",
        "    y = l2*np.cos(theta1) + d3*np.sin(theta2)*np.sin(theta1)\n",
        "    z = d3*np.cos(theta2) + l1\n",
        "    return [x,y,z]\n",
        "\n",
        "#For J1 joint position\n",
        "def StanfordForwardKinematicsJ1(theta1,theta2,d3,l1,l2):\n",
        "    x = 0\n",
        "    y = 0\n",
        "    z = l1\n",
        "    return [x,y,z]\n",
        "#For J2 joint position\n",
        "def StanfordForwardKinematicsJ2(theta1,theta2,d3,l1,l2):\n",
        "    x = -l2*np.sin(theta1) \n",
        "    y = l2*np.cos(theta1)\n",
        "    z = l1\n",
        "    return [x,y,z]\n",
        "\n",
        "\n",
        "\n",
        "def StanfordAnimate(i):\n",
        "  \n",
        "  return 0"
      ],
      "execution_count": 7,
      "outputs": []
    },
    {
      "cell_type": "code",
      "metadata": {
        "id": "aA0IlzNPFuaJ"
      },
      "source": [
        ""
      ],
      "execution_count": null,
      "outputs": []
    },
    {
      "cell_type": "markdown",
      "metadata": {
        "id": "C6gFIDSIFc9T"
      },
      "source": [
        "### Q3 : SCARA Manipulator"
      ]
    },
    {
      "cell_type": "code",
      "metadata": {
        "id": "325RX8OUB3VF"
      },
      "source": [
        "#specs\n",
        "l0=10\n",
        "l1=5\n",
        "l2=5\n",
        "\n",
        "m1=10\n",
        "m2=10\n",
        "m3=10\n",
        "\n",
        "i1= m1*(l1**2)/3\n",
        "i2= m2*(l2**2)/3\n",
        "i3= m3*((ll+l2)**2)/3\n"
      ],
      "execution_count": null,
      "outputs": []
    },
    {
      "cell_type": "code",
      "metadata": {
        "id": "-gy8JQsiFsFS"
      },
      "source": [
        "# From Repository code\n",
        "def SCARAInverseKinematics(P0,l0,l1,l2):\n",
        "    x = P0[0]\n",
        "    y = P0[1]\n",
        "    z = P0[2]\n",
        "    r = abs(((x**2)+(y**2)-(l1**2)-(l2**2))/(2*l1*l2))\n",
        "    if (r**2)>1:\n",
        "        print('not possible')\n",
        "    theta2 = np.arctan(np.sqrt(1-r**2)/r)\n",
        "    theta1 = np.arctan(y/x) - np.arctan((l2*np.sin(theta2))/(l1+l2*np.cos(theta2)))\n",
        "    d3 = l0-z\n",
        "    theta1 = theta1*180/np.pi\n",
        "    theta2 = theta2*180/np.pi\n",
        "    return theta1,theta2,d3\n",
        "\n",
        "def SCARAForwardKinematicsEE(theta1,theta2,d3,l0,l1,l2):\n",
        "    theta1= theta1*np.pi/180\n",
        "    theta2=theta2*np.pi/180\n",
        "    p0= [l1*np.cos(theta1)+ l2*np.cos(theta1+theta2),\n",
        "                  l1*np.sin(theta1)+ l2*np.sin(theta1+theta2),\n",
        "                  l0-d3]\n",
        "    return p0\n",
        "\n",
        "def SCARAForwardKinematicsBasePrismaticJoint(theta1,theta2,d3,l0,l1,l2):\n",
        "    theta1= theta1*np.pi/180\n",
        "    theta2=theta2*np.pi/180\n",
        "    p0= [l1*np.cos(theta1)+ l2*np.cos(theta1+theta2),l1*np.sin(theta1)+ l2*np.sin(theta1+theta2),l0]\n",
        "    return p0\n",
        "\n",
        "def SCARAForwardKinematicsJ2(theta1,theta2,d3,l0,l1,l2):\n",
        "    theta1= theta1*np.pi/180\n",
        "    theta2=theta2*np.pi/180\n",
        "    p0= [l1*np.cos(theta1),l1*np.sin(theta1),l0]\n",
        "    return p0\n",
        "\n",
        "def SCARAForwardKinematicsJ1(theta1,theta2,d3,l0,l1,l2):\n",
        "    theta1= theta1*np.pi/180\n",
        "    theta2=theta2*np.pi/180\n",
        "    p0= [0,0,l0]\n",
        "    return p0\n"
      ],
      "execution_count": 1,
      "outputs": []
    },
    {
      "cell_type": "code",
      "metadata": {
        "id": "7F6N095tFvmP"
      },
      "source": [
        ""
      ],
      "execution_count": null,
      "outputs": []
    },
    {
      "cell_type": "code",
      "metadata": {
        "id": "LPNDSbA_Fvzk"
      },
      "source": [
        ""
      ],
      "execution_count": null,
      "outputs": []
    },
    {
      "cell_type": "markdown",
      "metadata": {
        "id": "8Y9wzOBXFdDo"
      },
      "source": [
        "### Q4 : PUMA Manipulator"
      ]
    },
    {
      "cell_type": "code",
      "metadata": {
        "id": "ASt8QCEMCc3K"
      },
      "source": [
        "#specs\n",
        "l1=10\n",
        "l2=10\n",
        "l3=10\n",
        "\n",
        "m1=10\n",
        "m2=10\n",
        "m3=10\n",
        "\n",
        "il1= m1*(l1**2)/3\n",
        "il2= m2*(l2**2)/3\n",
        "il3= m3*(l3**2)/3\n"
      ],
      "execution_count": 2,
      "outputs": []
    },
    {
      "cell_type": "code",
      "metadata": {
        "id": "7Lr65Kd2Egjt"
      },
      "source": [
        "# From Repository code\n",
        "\n",
        "def PUMAInverseKinematics(P0,l1,l2,l3):\n",
        "    x = P0[0]\n",
        "    y = P0[1]\n",
        "    z = P0[2]\n",
        "    theta1 = np.rad2deg(np.arctan2(y,x))\n",
        "    D = ((x**2)+(y**2)+(z-l1)*(z-l1)-l2**2-l3**2)/(2*l2*l3)\n",
        "    if (D**2)>1:\n",
        "        print(\"Not possible\")\n",
        "    theta3 = (np.arctan2((-np.sqrt(1-D*D)),D))\n",
        "    theta2 = np.rad2deg(np.arctan2(z-l1,(np.sqrt(x**2+y**2)))-np.arctan2((l3*np.sin(theta3)),(l2+l3*np.cos(theta3))))\n",
        "    theta3 = np.rad2deg(theta3)\n",
        "    return theta1,theta2,theta3\n",
        "\n",
        "def forward_kinematics_puma(theta1,theta2,theta3,l1,l2,l3):\n",
        "    theta1 = theta1*np.pi/180\n",
        "    theta2 = theta2*np.pi/180\n",
        "    theta3 = theta3*np.pi/180\n",
        "    x= np.cos(theta1)* (l3*np.cos(theta2+theta3)+ l2*np.cos(theta2))\n",
        "    y= np.sin(theta1) * (l3*np.cos(theta2+theta3)+ l2*np.cos(theta2))\n",
        "    z= l1+ l3*np.sin(theta2+theta3) +l2*np.sin(theta2)\n",
        "    return x,y,z"
      ],
      "execution_count": 8,
      "outputs": []
    },
    {
      "cell_type": "code",
      "metadata": {
        "id": "mBNxQFMjFwnF"
      },
      "source": [
        "#states[q1,q2,q3,q1d,q2d,q3d]\n",
        "def xdotCalc(state,t,tau1,tau2):\n",
        "  dstate=np.zeros_like(state)\n",
        "  #angular position states\n",
        "  q1=state[0]\n",
        "  q2=state[1]\n",
        "  q3=state[2]\n",
        "  #angular velocity states\n",
        "  q1dot=state[3]\n",
        "  q2dot=state[4]\n",
        "  q3dot=state[5]\n",
        "  dstate[0]=q1dot\n",
        "  dstate[1]=q1ddot\n",
        "  dstate[2]=q2dot\n",
        "  dstate[3]=q2ddot\n",
        "  return dstate.tolist()"
      ],
      "execution_count": null,
      "outputs": []
    },
    {
      "cell_type": "code",
      "metadata": {
        "id": "C38fLqEWFwvg"
      },
      "source": [
        "initPos=[0,l3+l1/2,l2+l3/2]\n",
        "FinPos=[4,3,5]\n",
        "def trajtrackPUMA(initPos,FinPos):\n",
        "  initq=[PUMAInverseKinematics(initPos,l1,l2,l3)]\n",
        "  finalq=[PUMAInverseKinematics(FinPos,l1,l2,l3)]\n",
        "  currentpos=initPos\n",
        "  dt=0.02\n",
        "  Kd=0.1\n",
        "  Kp=5\n",
        "  while(np.linalg.norm(np.array(FinPos)-np.array(currentpos)))>0.1:\n",
        "    \n",
        "\n",
        "\n",
        "\n",
        "\n"
      ],
      "execution_count": null,
      "outputs": []
    }
  ]
}